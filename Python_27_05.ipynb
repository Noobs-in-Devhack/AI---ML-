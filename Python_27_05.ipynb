{
  "nbformat": 4,
  "nbformat_minor": 0,
  "metadata": {
    "colab": {
      "provenance": [],
      "include_colab_link": true
    },
    "kernelspec": {
      "name": "python3",
      "display_name": "Python 3"
    },
    "language_info": {
      "name": "python"
    }
  },
  "cells": [
    {
      "cell_type": "markdown",
      "metadata": {
        "id": "view-in-github",
        "colab_type": "text"
      },
      "source": [
        "<a href=\"https://colab.research.google.com/github/Noobs-in-Devhack/AI---ML-/blob/main/Python_27_05.ipynb\" target=\"_parent\"><img src=\"https://colab.research.google.com/assets/colab-badge.svg\" alt=\"Open In Colab\"/></a>"
      ]
    },
    {
      "cell_type": "markdown",
      "source": [
        "#### Basic Syntax"
      ],
      "metadata": {
        "id": "e1KSE5rhq_ur"
      }
    },
    {
      "cell_type": "code",
      "execution_count": null,
      "metadata": {
        "id": "u_STF_bso9w1"
      },
      "outputs": [],
      "source": [
        "# This is syntax for python comment"
      ]
    },
    {
      "cell_type": "code",
      "source": [
        "\"\"\"\n",
        "This is python syntax for paragraph.\n",
        "This can also used as multi-line comment.\n",
        "\"\"\"\n",
        "print(\"Hello World\")    # prints value or outcome of variable"
      ],
      "metadata": {
        "colab": {
          "base_uri": "https://localhost:8080/"
        },
        "id": "NpY-OcYJpUii",
        "outputId": "8d0dd25e-0947-43f4-a5bf-21104fa4b468"
      },
      "execution_count": null,
      "outputs": [
        {
          "output_type": "stream",
          "name": "stdout",
          "text": [
            "Hello World\n"
          ]
        }
      ]
    },
    {
      "cell_type": "code",
      "source": [
        "# Identifiers : names of Variables, Classes, Functions etc.\n",
        "var_1 = 10     # valid variable name to declare integers."
      ],
      "metadata": {
        "id": "huSPYIwop08Z"
      },
      "execution_count": null,
      "outputs": []
    },
    {
      "cell_type": "code",
      "source": [
        "print(type(var_1))    # type() : Returns data type of variable"
      ],
      "metadata": {
        "colab": {
          "base_uri": "https://localhost:8080/"
        },
        "id": "RVUH18QkrQLI",
        "outputId": "26296f1a-87f2-4d9f-e719-b797607c8b58"
      },
      "execution_count": null,
      "outputs": [
        {
          "output_type": "stream",
          "name": "stdout",
          "text": [
            "<class 'int'>\n"
          ]
        }
      ]
    },
    {
      "cell_type": "code",
      "source": [
        "1var = 100           # Identifiers/variable name should not begin with numerical value"
      ],
      "metadata": {
        "colab": {
          "base_uri": "https://localhost:8080/",
          "height": 106
        },
        "id": "8RJMdcXtrTRD",
        "outputId": "ed9a70d7-dae2-49d2-96d0-be68c1d5fb7e"
      },
      "execution_count": null,
      "outputs": [
        {
          "output_type": "error",
          "ename": "SyntaxError",
          "evalue": "invalid decimal literal (<ipython-input-5-5a388c5d8170>, line 1)",
          "traceback": [
            "\u001b[0;36m  File \u001b[0;32m\"<ipython-input-5-5a388c5d8170>\"\u001b[0;36m, line \u001b[0;32m1\u001b[0m\n\u001b[0;31m    1var = 100           # Identifiers/variable name should not begin with numerical value\u001b[0m\n\u001b[0m    ^\u001b[0m\n\u001b[0;31mSyntaxError\u001b[0m\u001b[0;31m:\u001b[0m invalid decimal literal\n"
          ]
        }
      ]
    },
    {
      "cell_type": "code",
      "source": [
        "@var1 = 100"
      ],
      "metadata": {
        "colab": {
          "base_uri": "https://localhost:8080/",
          "height": 106
        },
        "id": "EahqXzssrmnj",
        "outputId": "9eb97d26-bd55-4c69-f061-1a74f442e4de"
      },
      "execution_count": null,
      "outputs": [
        {
          "output_type": "error",
          "ename": "SyntaxError",
          "evalue": "invalid syntax. Maybe you meant '==' or ':=' instead of '='? (<ipython-input-7-fb81ee1efb4b>, line 1)",
          "traceback": [
            "\u001b[0;36m  File \u001b[0;32m\"<ipython-input-7-fb81ee1efb4b>\"\u001b[0;36m, line \u001b[0;32m1\u001b[0m\n\u001b[0;31m    @var1 = 100\u001b[0m\n\u001b[0m     ^\u001b[0m\n\u001b[0;31mSyntaxError\u001b[0m\u001b[0;31m:\u001b[0m invalid syntax. Maybe you meant '==' or ':=' instead of '='?\n"
          ]
        }
      ]
    },
    {
      "cell_type": "code",
      "source": [
        "var_1 = 12345678"
      ],
      "metadata": {
        "id": "EaJ1PRBKr0OB"
      },
      "execution_count": null,
      "outputs": []
    },
    {
      "cell_type": "code",
      "source": [
        "_var = 12345678"
      ],
      "metadata": {
        "id": "giQnI8_QsDTw"
      },
      "execution_count": null,
      "outputs": []
    },
    {
      "cell_type": "markdown",
      "source": [
        "#### Keywords:\n",
        "    * Reserved Words in Python Programming."
      ],
      "metadata": {
        "id": "MpC_guAMsiMM"
      }
    },
    {
      "cell_type": "code",
      "source": [
        "import keyword\n",
        "print(keyword.kwlist)"
      ],
      "metadata": {
        "colab": {
          "base_uri": "https://localhost:8080/"
        },
        "id": "nrt-2I8VsQ3y",
        "outputId": "d4c9451a-b47c-4439-e0a5-774322f53816"
      },
      "execution_count": null,
      "outputs": [
        {
          "output_type": "stream",
          "name": "stdout",
          "text": [
            "['False', 'None', 'True', 'and', 'as', 'assert', 'async', 'await', 'break', 'class', 'continue', 'def', 'del', 'elif', 'else', 'except', 'finally', 'for', 'from', 'global', 'if', 'import', 'in', 'is', 'lambda', 'nonlocal', 'not', 'or', 'pass', 'raise', 'return', 'try', 'while', 'with', 'yield']\n"
          ]
        }
      ]
    },
    {
      "cell_type": "code",
      "source": [
        "len(keyword.kwlist)   # len() - length function - build-in function that returns size of variable."
      ],
      "metadata": {
        "colab": {
          "base_uri": "https://localhost:8080/"
        },
        "id": "s4bbo5vgsscg",
        "outputId": "97722cb4-189e-4b13-f314-a0500ca1dde9"
      },
      "execution_count": null,
      "outputs": [
        {
          "output_type": "execute_result",
          "data": {
            "text/plain": [
              "35"
            ]
          },
          "metadata": {},
          "execution_count": 11
        }
      ]
    },
    {
      "cell_type": "markdown",
      "source": [
        "#### Primitive Data Types\n",
        "* Interger\n",
        "* Float\n",
        "* Strings\n",
        "* Boolean\n",
        "* Complex"
      ],
      "metadata": {
        "id": "Q5yzV0oFt8h2"
      }
    },
    {
      "cell_type": "code",
      "source": [
        "intvar = 1000                             # Interger Data type\n",
        "floatvar = 12.568765                      # Float Data type\n",
        "strvar = 'This is string data type'       # String data type\n",
        "strvar1 = \"This is also string data type\"\n",
        "boolvar = True                            # Boolean Data type\n",
        "boolvar1 = False\n",
        "compvar = 34 + 67j                        # Complex data types (real + imaginary)"
      ],
      "metadata": {
        "id": "6MDINCDfs1_P"
      },
      "execution_count": null,
      "outputs": []
    },
    {
      "cell_type": "code",
      "source": [
        "print(intvar)\n",
        "print(type(intvar))\n",
        "print(strvar)\n",
        "print(type(strvar))\n",
        "print(floatvar)\n",
        "print(type(floatvar))\n",
        "print(boolvar)\n",
        "print(type(boolvar))"
      ],
      "metadata": {
        "colab": {
          "base_uri": "https://localhost:8080/"
        },
        "collapsed": true,
        "id": "tTTgI4K3uwzN",
        "outputId": "5e03257a-91ed-4687-ad1f-1ae00bd0742a"
      },
      "execution_count": null,
      "outputs": [
        {
          "output_type": "stream",
          "name": "stdout",
          "text": [
            "1000\n",
            "<class 'int'>\n",
            "This is string data type\n",
            "<class 'str'>\n",
            "12.568765\n",
            "<class 'float'>\n",
            "True\n",
            "<class 'bool'>\n"
          ]
        }
      ]
    },
    {
      "cell_type": "markdown",
      "source": [
        "#### Data Structure\n",
        "  * Collection of Data.\n",
        "\n",
        "1. Lists\n",
        "  * Lists are mutable collection of heterogenous data types.\n",
        "  * Lists are declared within [ ] or list().\n",
        "  * List can also have duplicate values."
      ],
      "metadata": {
        "id": "TqnjhJSwU4hd"
      }
    },
    {
      "cell_type": "code",
      "source": [
        "# Empty List Declaration\n",
        "list_1 = []"
      ],
      "metadata": {
        "id": "LOXxlov9u1tT"
      },
      "execution_count": null,
      "outputs": []
    },
    {
      "cell_type": "code",
      "source": [
        "list_1 = [True, 'ABCD', 12345678, 'This is List Data', True, False, 123456.89]\n",
        "print(list_1)"
      ],
      "metadata": {
        "colab": {
          "base_uri": "https://localhost:8080/"
        },
        "id": "HHnzVTxBVmyq",
        "outputId": "eecee681-fca4-4d0a-db28-1f6ee4f70e57"
      },
      "execution_count": null,
      "outputs": [
        {
          "output_type": "stream",
          "name": "stdout",
          "text": [
            "[True, 'ABCD', 12345678, 'This is List Data', True, False, 123456.89]\n"
          ]
        }
      ]
    },
    {
      "cell_type": "code",
      "source": [
        "print(type(list_1))"
      ],
      "metadata": {
        "colab": {
          "base_uri": "https://localhost:8080/"
        },
        "id": "sB2caNX2V7h1",
        "outputId": "0402b30f-df44-4372-b796-216cc1439d41"
      },
      "execution_count": null,
      "outputs": [
        {
          "output_type": "stream",
          "name": "stdout",
          "text": [
            "<class 'list'>\n"
          ]
        }
      ]
    },
    {
      "cell_type": "markdown",
      "source": [
        "  * List Methods"
      ],
      "metadata": {
        "id": "1QxKpkJzWKXO"
      }
    },
    {
      "cell_type": "code",
      "source": [
        "list_1.append(98765.12)    # New value will be inserted in the end of list - append()"
      ],
      "metadata": {
        "id": "Z6a_oy8cV9Vw"
      },
      "execution_count": null,
      "outputs": []
    },
    {
      "cell_type": "code",
      "source": [
        "list_2 = list_1.copy()     # copy the values from list_1 to list_2"
      ],
      "metadata": {
        "id": "VrnEitG4WcaP"
      },
      "execution_count": null,
      "outputs": []
    },
    {
      "cell_type": "code",
      "source": [
        "list_3 = list_1            # copy by reference = Deep Copy."
      ],
      "metadata": {
        "id": "7l4FnQp5Wp_x"
      },
      "execution_count": null,
      "outputs": []
    },
    {
      "cell_type": "code",
      "source": [
        "list_1.append('New Value')"
      ],
      "metadata": {
        "id": "7wbvsGMoXj4G"
      },
      "execution_count": null,
      "outputs": []
    },
    {
      "cell_type": "code",
      "source": [
        "print(list_1)\n",
        "print(list_2)\n",
        "print(list_3)"
      ],
      "metadata": {
        "colab": {
          "base_uri": "https://localhost:8080/"
        },
        "id": "jdYEDpMGX-xH",
        "outputId": "35b85392-5ccb-41dd-ebc9-2964abeb4553"
      },
      "execution_count": null,
      "outputs": [
        {
          "output_type": "stream",
          "name": "stdout",
          "text": [
            "[True, 'ABCD', 12345678, 'This is List Data', True, False, 123456.89, 98765.12, 'New Value']\n",
            "[True, 'ABCD', 12345678, 'This is List Data', True, False, 123456.89, 98765.12]\n",
            "[True, 'ABCD', 12345678, 'This is List Data', True, False, 123456.89, 98765.12, 'New Value']\n"
          ]
        }
      ]
    },
    {
      "cell_type": "code",
      "source": [
        "# extend method - update list with multiple values.\n",
        "list_1.extend([112233, True, 23+56j])      # Insert multiple values in the end of list"
      ],
      "metadata": {
        "id": "3v4I-U6FYF3m"
      },
      "execution_count": null,
      "outputs": []
    },
    {
      "cell_type": "code",
      "source": [
        "print(list_1)"
      ],
      "metadata": {
        "colab": {
          "base_uri": "https://localhost:8080/"
        },
        "id": "P1pO8PsrYx0n",
        "outputId": "196d7c09-5956-404d-e811-e2314ad708d4"
      },
      "execution_count": null,
      "outputs": [
        {
          "output_type": "stream",
          "name": "stdout",
          "text": [
            "[True, 'ABCD', 12345678, 'This is List Data', True, False, 123456.89, 98765.12, 'New Value', 112233, True, (23+56j)]\n"
          ]
        }
      ]
    },
    {
      "cell_type": "code",
      "source": [
        "list_1.insert(3, 'Python')"
      ],
      "metadata": {
        "id": "I8kN879WY0zB"
      },
      "execution_count": null,
      "outputs": []
    },
    {
      "cell_type": "code",
      "source": [
        "list_1.pop()      # It removes last value from list."
      ],
      "metadata": {
        "colab": {
          "base_uri": "https://localhost:8080/"
        },
        "id": "3V1XsRy8bO5y",
        "outputId": "16511fe1-ea54-4de0-fcd5-89e7cac118ae"
      },
      "execution_count": null,
      "outputs": [
        {
          "output_type": "execute_result",
          "data": {
            "text/plain": [
              "(23+56j)"
            ]
          },
          "metadata": {},
          "execution_count": 27
        }
      ]
    },
    {
      "cell_type": "code",
      "source": [
        "list_1.pop(4)     # Value at Index 4 will be removed."
      ],
      "metadata": {
        "colab": {
          "base_uri": "https://localhost:8080/",
          "height": 36
        },
        "id": "QWCHB-fxbYmM",
        "outputId": "156ce588-52cc-496f-ea09-5150df75a53f"
      },
      "execution_count": null,
      "outputs": [
        {
          "output_type": "execute_result",
          "data": {
            "text/plain": [
              "'This is List Data'"
            ],
            "application/vnd.google.colaboratory.intrinsic+json": {
              "type": "string"
            }
          },
          "metadata": {},
          "execution_count": 28
        }
      ]
    },
    {
      "cell_type": "code",
      "source": [
        "list_1.remove('New Value')    # Removes value by value"
      ],
      "metadata": {
        "id": "80qTXY4TbhL3"
      },
      "execution_count": null,
      "outputs": []
    },
    {
      "cell_type": "code",
      "source": [
        "list_1.index(123456.89)"
      ],
      "metadata": {
        "colab": {
          "base_uri": "https://localhost:8080/"
        },
        "id": "GEmcNIYsbsu_",
        "outputId": "ed113a85-e266-4681-feb4-57b3d01efe71"
      },
      "execution_count": null,
      "outputs": [
        {
          "output_type": "execute_result",
          "data": {
            "text/plain": [
              "6"
            ]
          },
          "metadata": {},
          "execution_count": 30
        }
      ]
    },
    {
      "cell_type": "code",
      "source": [
        "list_1.reverse()\n",
        "print(list_1)"
      ],
      "metadata": {
        "colab": {
          "base_uri": "https://localhost:8080/"
        },
        "id": "Xa3Y1tV4b81t",
        "outputId": "48713fe0-beab-47a4-83ae-095a055e289d"
      },
      "execution_count": null,
      "outputs": [
        {
          "output_type": "stream",
          "name": "stdout",
          "text": [
            "[True, 112233, 98765.12, 123456.89, False, True, 'Python', 12345678, 'ABCD', True]\n"
          ]
        }
      ]
    },
    {
      "cell_type": "code",
      "source": [
        "list_1"
      ],
      "metadata": {
        "colab": {
          "base_uri": "https://localhost:8080/"
        },
        "collapsed": true,
        "id": "TigEWRZWcHSK",
        "outputId": "e607186c-0fb2-4f0c-b473-6f4b9c1674f8"
      },
      "execution_count": null,
      "outputs": [
        {
          "output_type": "execute_result",
          "data": {
            "text/plain": [
              "[True,\n",
              " 112233,\n",
              " 98765.12,\n",
              " 123456.89,\n",
              " False,\n",
              " True,\n",
              " 'Python',\n",
              " 12345678,\n",
              " 'ABCD',\n",
              " True]"
            ]
          },
          "metadata": {},
          "execution_count": 34
        }
      ]
    },
    {
      "cell_type": "markdown",
      "source": [
        "#### Tuples\n",
        "    * Tuples are immutable collection of hetegenous data types.\n",
        "    * Tuples are declared within () or using tuple()\n",
        "    * Iterating over Tuple values are faster comapred to iterating over list."
      ],
      "metadata": {
        "id": "6JUCUi9FeI8z"
      }
    },
    {
      "cell_type": "code",
      "source": [
        "# Empty Tuple\n",
        "tuple_1 = ()"
      ],
      "metadata": {
        "id": "KsU2cDT4dO8u"
      },
      "execution_count": null,
      "outputs": []
    },
    {
      "cell_type": "code",
      "source": [
        "tuple_1 = (10, 203, 4537, 56544.123, 88.01)\n",
        "print(tuple_1)"
      ],
      "metadata": {
        "colab": {
          "base_uri": "https://localhost:8080/"
        },
        "id": "F8EYZCiUe8NT",
        "outputId": "bd6c6228-a1ed-4261-885b-44bf18895a40"
      },
      "execution_count": null,
      "outputs": [
        {
          "output_type": "stream",
          "name": "stdout",
          "text": [
            "(10, 203, 4537, 56544.123, 88.01)\n"
          ]
        }
      ]
    },
    {
      "cell_type": "code",
      "source": [
        "tuple_2 = ('Tom', 32.6755, True, False, 'Jerry', 10110, 34+67j)\n",
        "tuple_3 = ([1020304050,'Harry','Mickey'],45.7891,True,('New York','Venice'))"
      ],
      "metadata": {
        "id": "Q4eVk28CfFDR"
      },
      "execution_count": null,
      "outputs": []
    },
    {
      "cell_type": "code",
      "source": [
        "tuple_2.count(True)   # count() returns occurances of tuple value."
      ],
      "metadata": {
        "colab": {
          "base_uri": "https://localhost:8080/"
        },
        "id": "Ki2v0ElBfj0e",
        "outputId": "dc0e03a9-331c-47f4-c3b9-f5d8c7c69fb0"
      },
      "execution_count": null,
      "outputs": [
        {
          "output_type": "execute_result",
          "data": {
            "text/plain": [
              "1"
            ]
          },
          "metadata": {},
          "execution_count": 40
        }
      ]
    },
    {
      "cell_type": "code",
      "source": [
        "tuple_2.index(True)   # index returns index position"
      ],
      "metadata": {
        "colab": {
          "base_uri": "https://localhost:8080/"
        },
        "id": "z4COfEz5fyt_",
        "outputId": "2788ee66-5240-4fa4-de7a-a11db5ff98c3"
      },
      "execution_count": null,
      "outputs": [
        {
          "output_type": "execute_result",
          "data": {
            "text/plain": [
              "2"
            ]
          },
          "metadata": {},
          "execution_count": 41
        }
      ]
    },
    {
      "cell_type": "code",
      "source": [
        "# Concatination\n",
        "tuple_4 = tuple_2 + tuple_3"
      ],
      "metadata": {
        "id": "qHWteoPuhNDD"
      },
      "execution_count": null,
      "outputs": []
    },
    {
      "cell_type": "code",
      "source": [
        "print(tuple_4)"
      ],
      "metadata": {
        "colab": {
          "base_uri": "https://localhost:8080/"
        },
        "id": "gjmU6_Nyhrd-",
        "outputId": "69bfaf19-cdfa-4633-9132-0ab301e00a27"
      },
      "execution_count": null,
      "outputs": [
        {
          "output_type": "stream",
          "name": "stdout",
          "text": [
            "('Tom', 32.6755, True, False, 'Jerry', 10110, (34+67j), [1020304050, 'Harry', 'Mickey'], 45.7891, True, ('New York', 'Venice'))\n"
          ]
        }
      ]
    },
    {
      "cell_type": "markdown",
      "source": [
        "#### Dictionary\n",
        "    * It is mutable collection of data types in Python\n",
        "    * A python dictionary is collection of key and value pair seperated by \":\" and enclosed in curly braces {}.\n",
        "    * Keys must be unique in dictionary and values can be duplicate."
      ],
      "metadata": {
        "id": "2hNgylNJi7KC"
      }
    },
    {
      "cell_type": "code",
      "source": [
        "dict_1 = {}     # Declare empty dictionary."
      ],
      "metadata": {
        "id": "duc3bhyhi1wt"
      },
      "execution_count": null,
      "outputs": []
    },
    {
      "cell_type": "code",
      "source": [
        "dict_1 = {'Name':'Subhendu', 'Gender':'Male', 'DOB':2000, 'Job':'Data Analyst'}\n",
        "print(dict_1)"
      ],
      "metadata": {
        "colab": {
          "base_uri": "https://localhost:8080/"
        },
        "id": "jLRJn64FjcCS",
        "outputId": "60a30fec-8c27-4497-c1cc-8c75403ecb2b"
      },
      "execution_count": null,
      "outputs": [
        {
          "output_type": "stream",
          "name": "stdout",
          "text": [
            "{'Name': 'Subhendu', 'Gender': 'Male', 'DOB': 2000, 'Job': 'Data Analyst'}\n"
          ]
        }
      ]
    },
    {
      "cell_type": "code",
      "source": [
        "dict_1['Name']   # Access individual value using key."
      ],
      "metadata": {
        "colab": {
          "base_uri": "https://localhost:8080/",
          "height": 36
        },
        "id": "S6yiSlyojxB5",
        "outputId": "337029d9-fcec-43a6-f88d-2adc8230d4a8"
      },
      "execution_count": null,
      "outputs": [
        {
          "output_type": "execute_result",
          "data": {
            "text/plain": [
              "'Subhendu'"
            ],
            "application/vnd.google.colaboratory.intrinsic+json": {
              "type": "string"
            }
          },
          "metadata": {},
          "execution_count": 47
        }
      ]
    },
    {
      "cell_type": "code",
      "source": [
        "# Insert a new key.\n",
        "dict_1['City'] = 'Bangalore'"
      ],
      "metadata": {
        "id": "SF64juYKj7TH"
      },
      "execution_count": null,
      "outputs": []
    },
    {
      "cell_type": "code",
      "source": [
        "# Update existing key with values.\n",
        "dict_1['City'] = ['Bangalore', 'Delhi', 'Mumbai']"
      ],
      "metadata": {
        "id": "A7JKJSuUkhoN"
      },
      "execution_count": null,
      "outputs": []
    },
    {
      "cell_type": "code",
      "source": [
        "# Nested Dict\n",
        "my_emp = {'Ex1001':{'Name':'Subhendu', 'Gender':'Male', 'DOB':2000, 'Job':'Data Analyst'},\n",
        "          'Ex1002':{'Name':'Aryan', 'Gender':'Male', 'DOB':2001, 'Job':'HR'},\n",
        "          'Ex1003':{'Name':'Pradip', 'Gender':'Male', 'DOB':1999, 'Job':'Associate'}\n",
        "          }"
      ],
      "metadata": {
        "id": "DMPXQMFzk2iu"
      },
      "execution_count": null,
      "outputs": []
    },
    {
      "cell_type": "code",
      "source": [
        "my_emp['Ex1002']"
      ],
      "metadata": {
        "colab": {
          "base_uri": "https://localhost:8080/"
        },
        "id": "j4yG3fSnlktq",
        "outputId": "4c8ee2f5-21cb-4e4f-d46a-a6c11c9e5ab1"
      },
      "execution_count": null,
      "outputs": [
        {
          "output_type": "execute_result",
          "data": {
            "text/plain": [
              "{'Name': 'Aryan', 'Gender': 'Male', 'DOB': 2001, 'Job': 'HR'}"
            ]
          },
          "metadata": {},
          "execution_count": 52
        }
      ]
    },
    {
      "cell_type": "code",
      "source": [
        "my_emp['Ex1002']['Job']"
      ],
      "metadata": {
        "colab": {
          "base_uri": "https://localhost:8080/",
          "height": 36
        },
        "id": "NnQy_MtJlsvI",
        "outputId": "7fd59859-621c-49ef-bc78-1f5c3eea7dcf"
      },
      "execution_count": null,
      "outputs": [
        {
          "output_type": "execute_result",
          "data": {
            "text/plain": [
              "'HR'"
            ],
            "application/vnd.google.colaboratory.intrinsic+json": {
              "type": "string"
            }
          },
          "metadata": {},
          "execution_count": 53
        }
      ]
    },
    {
      "cell_type": "code",
      "source": [
        "dict_1.items()     # returns tuple of list, here tuple is (key,value)"
      ],
      "metadata": {
        "colab": {
          "base_uri": "https://localhost:8080/"
        },
        "id": "E3EW5tT2mP0N",
        "outputId": "95fd6172-ba39-4c76-a4a8-4b945b1adc01"
      },
      "execution_count": null,
      "outputs": [
        {
          "output_type": "execute_result",
          "data": {
            "text/plain": [
              "dict_items([('Name', 'Subhendu'), ('Gender', 'Male'), ('DOB', 2000), ('Job', 'Data Analyst'), ('City', ['Bangalore', 'Delhi', 'Mumbai'])])"
            ]
          },
          "metadata": {},
          "execution_count": 55
        }
      ]
    },
    {
      "cell_type": "code",
      "source": [
        "dict_1.keys()"
      ],
      "metadata": {
        "colab": {
          "base_uri": "https://localhost:8080/"
        },
        "id": "n51yhlzKnKd7",
        "outputId": "b5713a68-2857-43a8-9516-5ceb5a6cadf8"
      },
      "execution_count": null,
      "outputs": [
        {
          "output_type": "execute_result",
          "data": {
            "text/plain": [
              "dict_keys(['Name', 'Gender', 'DOB', 'Job', 'City'])"
            ]
          },
          "metadata": {},
          "execution_count": 56
        }
      ]
    },
    {
      "cell_type": "code",
      "source": [
        "dict_1.values()"
      ],
      "metadata": {
        "colab": {
          "base_uri": "https://localhost:8080/"
        },
        "id": "NpS8xM0YnkVh",
        "outputId": "d40e04b7-48e5-4380-b475-a028e93dfe46"
      },
      "execution_count": null,
      "outputs": [
        {
          "output_type": "execute_result",
          "data": {
            "text/plain": [
              "dict_values(['Subhendu', 'Male', 2000, 'Data Analyst', ['Bangalore', 'Delhi', 'Mumbai']])"
            ]
          },
          "metadata": {},
          "execution_count": 57
        }
      ]
    },
    {
      "cell_type": "code",
      "source": [
        "dict_1.update({'Contact':'+91-9876543210','Marital Status':'Married'})"
      ],
      "metadata": {
        "id": "jr_WAD76nmYl"
      },
      "execution_count": null,
      "outputs": []
    },
    {
      "cell_type": "code",
      "source": [
        "print(dict_1)"
      ],
      "metadata": {
        "colab": {
          "base_uri": "https://localhost:8080/"
        },
        "id": "Pq5t35CBoI_V",
        "outputId": "731a96a5-8d4e-4c55-b112-b945963f90a5"
      },
      "execution_count": null,
      "outputs": [
        {
          "output_type": "stream",
          "name": "stdout",
          "text": [
            "{'Name': 'Subhendu', 'Gender': 'Male', 'DOB': 2000, 'Job': 'Data Analyst', 'City': ['Bangalore', 'Delhi', 'Mumbai'], 'Contact': '+91-9876543210', 'Marital Status': 'Married'}\n"
          ]
        }
      ]
    },
    {
      "cell_type": "markdown",
      "source": [
        "#### Sets\n",
        "    * Sets are unique collection of elements. No duplicate values are allowed.\n",
        "    * Sets are unordered collection.\n",
        "    * Sets doesn't have any indexes, hence position will be not fixed."
      ],
      "metadata": {
        "id": "-Sir1l8crggh"
      }
    },
    {
      "cell_type": "code",
      "source": [
        "myset = set()      # Empty Sets"
      ],
      "metadata": {
        "id": "2j5E32rVoLhk"
      },
      "execution_count": null,
      "outputs": []
    },
    {
      "cell_type": "code",
      "source": [
        "myset = {10, 20, 30, 40, 50, 60, 70, 80}\n",
        "print(myset)"
      ],
      "metadata": {
        "colab": {
          "base_uri": "https://localhost:8080/"
        },
        "id": "0GMg_VV0r29y",
        "outputId": "870de706-1aa8-4123-fcd7-8a90a8bb643e"
      },
      "execution_count": null,
      "outputs": [
        {
          "output_type": "stream",
          "name": "stdout",
          "text": [
            "{70, 40, 10, 80, 50, 20, 60, 30}\n"
          ]
        }
      ]
    },
    {
      "cell_type": "code",
      "source": [
        "myset1 = {'A','B','C','D','E','F'}\n",
        "myset2 = {'G','H','I','K','D','E','L'}\n",
        "myset3 = {'L','M','O','P','Q','F','E'}"
      ],
      "metadata": {
        "id": "afDxZqejr8sq"
      },
      "execution_count": null,
      "outputs": []
    },
    {
      "cell_type": "code",
      "source": [
        "myset1.add('P')   # Insert new value"
      ],
      "metadata": {
        "id": "9AxQNA8lsXdh"
      },
      "execution_count": null,
      "outputs": []
    },
    {
      "cell_type": "code",
      "source": [
        "myset1.union(myset2)    # concatination between two sets."
      ],
      "metadata": {
        "colab": {
          "base_uri": "https://localhost:8080/"
        },
        "id": "GfusGajascsb",
        "outputId": "8f4b92b4-f7cd-424f-fefe-b2b3366dbe27"
      },
      "execution_count": null,
      "outputs": [
        {
          "output_type": "execute_result",
          "data": {
            "text/plain": [
              "{'A', 'B', 'C', 'D', 'E', 'F', 'G', 'H', 'I', 'K', 'L', 'P'}"
            ]
          },
          "metadata": {},
          "execution_count": 64
        }
      ]
    },
    {
      "cell_type": "code",
      "source": [
        "myset1.union(myset2, myset3)    # union between all three sets."
      ],
      "metadata": {
        "colab": {
          "base_uri": "https://localhost:8080/"
        },
        "id": "ijuveQ7MsvVe",
        "outputId": "2fdb49c5-11ec-46e2-9d8b-347106260d15"
      },
      "execution_count": null,
      "outputs": [
        {
          "output_type": "execute_result",
          "data": {
            "text/plain": [
              "{'A', 'B', 'C', 'D', 'E', 'F', 'G', 'H', 'I', 'K', 'L', 'M', 'O', 'P', 'Q'}"
            ]
          },
          "metadata": {},
          "execution_count": 65
        }
      ]
    },
    {
      "cell_type": "code",
      "source": [
        "myset1.intersection(myset2)   # insersection between two sets - common values between both"
      ],
      "metadata": {
        "colab": {
          "base_uri": "https://localhost:8080/"
        },
        "id": "evx8eELqs2lf",
        "outputId": "e7678bfb-ce83-48c4-f3b4-7e25c4baa922"
      },
      "execution_count": null,
      "outputs": [
        {
          "output_type": "execute_result",
          "data": {
            "text/plain": [
              "{'D', 'E'}"
            ]
          },
          "metadata": {},
          "execution_count": 66
        }
      ]
    },
    {
      "cell_type": "code",
      "source": [
        "myset1 & myset2     # Intersection"
      ],
      "metadata": {
        "colab": {
          "base_uri": "https://localhost:8080/"
        },
        "id": "pg95uwMstE2N",
        "outputId": "85cf5c14-ccdc-4ecd-a3ac-0c08cc66e0e7"
      },
      "execution_count": null,
      "outputs": [
        {
          "output_type": "execute_result",
          "data": {
            "text/plain": [
              "{'D', 'E'}"
            ]
          },
          "metadata": {},
          "execution_count": 67
        }
      ]
    },
    {
      "cell_type": "code",
      "source": [
        "myset1 | myset2    # Union"
      ],
      "metadata": {
        "colab": {
          "base_uri": "https://localhost:8080/"
        },
        "id": "MNBlAHuatLxW",
        "outputId": "c4e3c4db-c394-4f06-a157-463949ad159f"
      },
      "execution_count": null,
      "outputs": [
        {
          "output_type": "execute_result",
          "data": {
            "text/plain": [
              "{'A', 'B', 'C', 'D', 'E', 'F', 'G', 'H', 'I', 'K', 'L', 'P'}"
            ]
          },
          "metadata": {},
          "execution_count": 68
        }
      ]
    },
    {
      "cell_type": "code",
      "source": [
        "myset1 - myset2"
      ],
      "metadata": {
        "colab": {
          "base_uri": "https://localhost:8080/"
        },
        "id": "NsqJqJMftOKb",
        "outputId": "93373c11-6229-4709-9077-b6929506e9ad"
      },
      "execution_count": null,
      "outputs": [
        {
          "output_type": "execute_result",
          "data": {
            "text/plain": [
              "{'A', 'B', 'C', 'F', 'P'}"
            ]
          },
          "metadata": {},
          "execution_count": 69
        }
      ]
    },
    {
      "cell_type": "code",
      "source": [
        "myset1.difference(myset2)"
      ],
      "metadata": {
        "colab": {
          "base_uri": "https://localhost:8080/"
        },
        "id": "1D6DKJ4Rtayi",
        "outputId": "29e89e0b-5a5b-4087-95e1-328803c2359f"
      },
      "execution_count": null,
      "outputs": [
        {
          "output_type": "execute_result",
          "data": {
            "text/plain": [
              "{'A', 'B', 'C', 'F', 'P'}"
            ]
          },
          "metadata": {},
          "execution_count": 70
        }
      ]
    },
    {
      "cell_type": "code",
      "source": [
        "myset2.difference(myset1)"
      ],
      "metadata": {
        "colab": {
          "base_uri": "https://localhost:8080/"
        },
        "id": "O9IlUFnktxls",
        "outputId": "3d582aab-fc9e-48b7-88c5-3d8b561c3b83"
      },
      "execution_count": null,
      "outputs": [
        {
          "output_type": "execute_result",
          "data": {
            "text/plain": [
              "{'G', 'H', 'I', 'K', 'L'}"
            ]
          },
          "metadata": {},
          "execution_count": 71
        }
      ]
    },
    {
      "cell_type": "code",
      "source": [
        "myset2.pop()"
      ],
      "metadata": {
        "colab": {
          "base_uri": "https://localhost:8080/",
          "height": 36
        },
        "id": "6VzODKmVt1ko",
        "outputId": "654402b9-b485-40c1-d1f1-ba3e3e145b7d"
      },
      "execution_count": null,
      "outputs": [
        {
          "output_type": "execute_result",
          "data": {
            "text/plain": [
              "'I'"
            ],
            "application/vnd.google.colaboratory.intrinsic+json": {
              "type": "string"
            }
          },
          "metadata": {},
          "execution_count": 72
        }
      ]
    },
    {
      "cell_type": "markdown",
      "source": [
        "#### Arithematic Operations"
      ],
      "metadata": {
        "id": "BvJlv4sIugFG"
      }
    },
    {
      "cell_type": "code",
      "source": [
        "a = 27\n",
        "b = 10\n",
        "print(a + b)\n",
        "print(a - b)\n",
        "print(a * b)\n",
        "print(a / b)\n",
        "print(a // b)      # Floor Division\n",
        "print(a % b)       # Remainder"
      ],
      "metadata": {
        "colab": {
          "base_uri": "https://localhost:8080/"
        },
        "id": "dI9KZs0_ub-Z",
        "outputId": "762c0a0e-7122-4c63-bc16-7bcd24a90702"
      },
      "execution_count": null,
      "outputs": [
        {
          "output_type": "stream",
          "name": "stdout",
          "text": [
            "37\n",
            "17\n",
            "270\n",
            "2.7\n",
            "2\n",
            "7\n"
          ]
        }
      ]
    },
    {
      "cell_type": "markdown",
      "source": [
        "#### Comaprison Operations"
      ],
      "metadata": {
        "id": "ZrO8xCEivE39"
      }
    },
    {
      "cell_type": "code",
      "source": [
        "# Return Boolean Output by compairing two values\n",
        "a = 27\n",
        "b = 10\n",
        "print(a == b)\n",
        "print(a >= b)\n",
        "print(a <= b)\n",
        "print(a > b)\n",
        "print(a < b)\n",
        "print(a != b)"
      ],
      "metadata": {
        "colab": {
          "base_uri": "https://localhost:8080/"
        },
        "id": "M2VcgocHuzNy",
        "outputId": "0f4c01ca-36e5-4ec0-db9c-97f287512e67"
      },
      "execution_count": null,
      "outputs": [
        {
          "output_type": "stream",
          "name": "stdout",
          "text": [
            "False\n",
            "True\n",
            "False\n",
            "True\n",
            "False\n",
            "True\n"
          ]
        }
      ]
    },
    {
      "cell_type": "markdown",
      "source": [
        "#### Indexing & Slicing of Lists & Tuples"
      ],
      "metadata": {
        "id": "xBysi4zUwC9i"
      }
    },
    {
      "cell_type": "code",
      "source": [
        "list_1 = [True, 'ABCD', 12345678, 'This is List Data', True, False, 123456.89]\n",
        "list_1[2]    # Indexing"
      ],
      "metadata": {
        "colab": {
          "base_uri": "https://localhost:8080/"
        },
        "id": "KACRTDkXv0Bm",
        "outputId": "ceb8dcc2-d7ac-4cfb-e2f3-283e56da332d"
      },
      "execution_count": null,
      "outputs": [
        {
          "output_type": "execute_result",
          "data": {
            "text/plain": [
              "12345678"
            ]
          },
          "metadata": {},
          "execution_count": 76
        }
      ]
    },
    {
      "cell_type": "code",
      "source": [
        "list_1[-1]    # Indexing"
      ],
      "metadata": {
        "colab": {
          "base_uri": "https://localhost:8080/"
        },
        "id": "0oh46OmLwfc5",
        "outputId": "5dcb7ff6-2ef2-4389-e43e-6dd9eb99c238"
      },
      "execution_count": null,
      "outputs": [
        {
          "output_type": "execute_result",
          "data": {
            "text/plain": [
              "123456.89"
            ]
          },
          "metadata": {},
          "execution_count": 77
        }
      ]
    },
    {
      "cell_type": "code",
      "source": [
        "tuple_1 = (True, 'ABCD', 12345678, 'This is List Data', True, False, 123456.89)\n",
        "print(tuple_1[5])\n",
        "print(tuple_1[-1])"
      ],
      "metadata": {
        "colab": {
          "base_uri": "https://localhost:8080/"
        },
        "id": "zlv8C0Xrwxpx",
        "outputId": "c7fa65fa-f333-4e32-e294-970674361652"
      },
      "execution_count": null,
      "outputs": [
        {
          "output_type": "stream",
          "name": "stdout",
          "text": [
            "False\n",
            "123456.89\n"
          ]
        }
      ]
    },
    {
      "cell_type": "code",
      "source": [
        "tuple_1 = (True, 'ABCD', 12345678, 'This is List Data', True, False, 123456.89)\n",
        "tuple_1[1:5]"
      ],
      "metadata": {
        "colab": {
          "base_uri": "https://localhost:8080/"
        },
        "id": "W4FNXMpiwxQr",
        "outputId": "5ce16acb-5a79-498a-dfd9-56f0391f88c1"
      },
      "execution_count": null,
      "outputs": [
        {
          "output_type": "execute_result",
          "data": {
            "text/plain": [
              "('ABCD', 12345678, 'This is List Data', True)"
            ]
          },
          "metadata": {},
          "execution_count": 81
        }
      ]
    },
    {
      "cell_type": "code",
      "source": [
        "list_1 = [True, 'ABCD', 12345678, 'This is List Data', True, False, 123456.89]\n",
        "list_1[2:6]"
      ],
      "metadata": {
        "colab": {
          "base_uri": "https://localhost:8080/"
        },
        "id": "RY7iRGUawxEv",
        "outputId": "5a3e1f63-89d9-41bf-dd1f-e57a723be431"
      },
      "execution_count": null,
      "outputs": [
        {
          "output_type": "execute_result",
          "data": {
            "text/plain": [
              "[12345678, 'This is List Data', True, False]"
            ]
          },
          "metadata": {},
          "execution_count": 82
        }
      ]
    },
    {
      "cell_type": "markdown",
      "source": [
        "##### Control Flow"
      ],
      "metadata": {
        "id": "sbeFsLgUwsMg"
      }
    },
    {
      "cell_type": "code",
      "source": [
        "num = 14\n",
        "if num < 15:\n",
        "    print(\"Number is less than value 15.\")\n",
        "\n",
        "# Default Statement\n",
        "print(\"Outside if block.\")"
      ],
      "metadata": {
        "colab": {
          "base_uri": "https://localhost:8080/"
        },
        "id": "5EQDGCFWwjlc",
        "outputId": "a67c7ed3-4e61-4ce7-c7d4-c40b08deb8c2"
      },
      "execution_count": null,
      "outputs": [
        {
          "output_type": "stream",
          "name": "stdout",
          "text": [
            "Number is less than value 15.\n",
            "Outside if block.\n"
          ]
        }
      ]
    },
    {
      "cell_type": "code",
      "source": [
        "# if .. elif(else if) ... else\n",
        "age = int(input(\"Enter the Age: \"))\n",
        "if age < 18:\n",
        "    print(\"Teenager\")\n",
        "elif age >= 18 and age <= 30:\n",
        "    print(\"Young\")\n",
        "elif age >= 31 and age <= 55:\n",
        "    print(\"Middle Aged\")\n",
        "else:\n",
        "    print(\"Old\")"
      ],
      "metadata": {
        "colab": {
          "base_uri": "https://localhost:8080/"
        },
        "id": "JjkqkmtLye_e",
        "outputId": "2abe5b1c-2d08-4525-f5ae-97afc5b74b8d"
      },
      "execution_count": null,
      "outputs": [
        {
          "output_type": "stream",
          "name": "stdout",
          "text": [
            "Enter the Age: 35\n",
            "Middle Aged\n"
          ]
        }
      ]
    },
    {
      "cell_type": "markdown",
      "source": [
        "#### For & While Loops"
      ],
      "metadata": {
        "id": "KY_K0BNb0rSN"
      }
    },
    {
      "cell_type": "code",
      "source": [
        "num = [1, 2, 3, 4, 5, 6, 7, 8, 9]\n",
        "\n",
        "# Initialize a variable\n",
        "total_sum = 0\n",
        "\n",
        "# Use for loop to iterate over list and calculate sum\n",
        "for number in num:\n",
        "    total_sum += number\n",
        "\n",
        "print(\"Total Sum: \", total_sum)"
      ],
      "metadata": {
        "colab": {
          "base_uri": "https://localhost:8080/"
        },
        "id": "GPVT29wN0pu9",
        "outputId": "c23b7fb4-9798-4c7a-90f5-769163c4e0ec"
      },
      "execution_count": null,
      "outputs": [
        {
          "output_type": "stream",
          "name": "stdout",
          "text": [
            "Total Sum:  45\n"
          ]
        }
      ]
    },
    {
      "cell_type": "code",
      "source": [
        "mylist = [1, 2, 3, 4, 5, 6, 7, 8, 9]\n",
        "\n",
        "add_num = 0\n",
        "index = 0\n",
        "while index < len(mylist):\n",
        "    add_num += mylist[index]\n",
        "    # update\n",
        "    index += 1\n",
        "print(\"Sum of array {} is : {}\".format(mylist, add_num))"
      ],
      "metadata": {
        "colab": {
          "base_uri": "https://localhost:8080/"
        },
        "id": "9w0EhiXw1mYU",
        "outputId": "5521eb94-5227-4c44-b51f-7657303182de"
      },
      "execution_count": null,
      "outputs": [
        {
          "output_type": "stream",
          "name": "stdout",
          "text": [
            "Sum of array [1, 2, 3, 4, 5, 6, 7, 8, 9] is : 45\n"
          ]
        }
      ]
    },
    {
      "cell_type": "markdown",
      "source": [
        "#### range(start, stop, step_size)"
      ],
      "metadata": {
        "id": "g6VPdnEx3Aao"
      }
    },
    {
      "cell_type": "code",
      "source": [
        "# start value = 1, end value = 19\n",
        "for element in range(1, 20):\n",
        "    print(element)"
      ],
      "metadata": {
        "colab": {
          "base_uri": "https://localhost:8080/"
        },
        "collapsed": true,
        "id": "feweFqfO2_ox",
        "outputId": "e33f8435-8ccc-46fd-bb3b-4b6ef6695740"
      },
      "execution_count": null,
      "outputs": [
        {
          "output_type": "stream",
          "name": "stdout",
          "text": [
            "1\n",
            "2\n",
            "3\n",
            "4\n",
            "5\n",
            "6\n",
            "7\n",
            "8\n",
            "9\n",
            "10\n",
            "11\n",
            "12\n",
            "13\n",
            "14\n",
            "15\n",
            "16\n",
            "17\n",
            "18\n",
            "19\n"
          ]
        }
      ]
    },
    {
      "cell_type": "code",
      "source": [
        "person = {'Name': 'Subhendu', 'Gender': 'Male', 'DOB': 2000, 'Job': 'Data Analyst', 'Contact': '+91-9876543210', 'Marital Status': 'Married'}\n",
        "# Use a for loop to iterate over the dictionary and print keys and values\n",
        "for key, value in person.items():\n",
        "    print(\"Key:\", key, \", Value:\", value)"
      ],
      "metadata": {
        "colab": {
          "base_uri": "https://localhost:8080/"
        },
        "id": "weXA6gtV3hZn",
        "outputId": "bf772326-f530-455e-e8a6-6528151a2e5e"
      },
      "execution_count": null,
      "outputs": [
        {
          "output_type": "stream",
          "name": "stdout",
          "text": [
            "Key: Name , Value: Subhendu\n",
            "Key: Gender , Value: Male\n",
            "Key: DOB , Value: 2000\n",
            "Key: Job , Value: Data Analyst\n",
            "Key: Contact , Value: +91-9876543210\n",
            "Key: Marital Status , Value: Married\n"
          ]
        }
      ]
    },
    {
      "cell_type": "markdown",
      "source": [
        "#### Functions\n",
        "    * In programming, we define a function to make resuable code that performs similar tasks.\n",
        "    * It is a block of organised code written to carry out a specified task."
      ],
      "metadata": {
        "id": "EX_zF4nR4aH6"
      }
    },
    {
      "cell_type": "code",
      "source": [
        "# User Declared Function\n",
        "def my_function():\n",
        "    print(\"Hello Python Users !!\")"
      ],
      "metadata": {
        "id": "u6AtwdYwzZmf"
      },
      "execution_count": null,
      "outputs": []
    },
    {
      "cell_type": "code",
      "source": [
        "# Call a function\n",
        "my_function()"
      ],
      "metadata": {
        "colab": {
          "base_uri": "https://localhost:8080/"
        },
        "id": "2BEskR7A4r3f",
        "outputId": "4fde8ef3-3103-4fcb-b732-d5998224da6e"
      },
      "execution_count": null,
      "outputs": [
        {
          "output_type": "stream",
          "name": "stdout",
          "text": [
            "Hello Python Users !!\n"
          ]
        }
      ]
    },
    {
      "cell_type": "code",
      "source": [
        "# Declare function with an argument\n",
        "def greetings(name):\n",
        "    statement = \"Hello \" + name + \" Good Evening!\"     # local variable\n",
        "    return statement"
      ],
      "metadata": {
        "id": "HUZtaqx94xWm"
      },
      "execution_count": null,
      "outputs": []
    },
    {
      "cell_type": "code",
      "source": [
        "greetings(\"Deepak\")"
      ],
      "metadata": {
        "colab": {
          "base_uri": "https://localhost:8080/",
          "height": 36
        },
        "id": "-xmDQXCG5HHS",
        "outputId": "c8c3e7e2-281a-43c4-f6f5-e247427c299d"
      },
      "execution_count": null,
      "outputs": [
        {
          "output_type": "execute_result",
          "data": {
            "text/plain": [
              "'Hello Deepak Good Evening!'"
            ],
            "application/vnd.google.colaboratory.intrinsic+json": {
              "type": "string"
            }
          },
          "metadata": {},
          "execution_count": 102
        }
      ]
    },
    {
      "cell_type": "markdown",
      "source": [
        "#### Lambda Function"
      ],
      "metadata": {
        "id": "-dzb9XiI5b3i"
      }
    },
    {
      "cell_type": "code",
      "source": [
        "expression = lambda a, b : a + b"
      ],
      "metadata": {
        "id": "Unecj_5t5TJE"
      },
      "execution_count": null,
      "outputs": []
    },
    {
      "cell_type": "code",
      "source": [
        "expression(10, 5)   # This is lambda function"
      ],
      "metadata": {
        "colab": {
          "base_uri": "https://localhost:8080/"
        },
        "id": "2eu_JJD55jR4",
        "outputId": "f84fa7bf-0b07-4e44-d69f-0491ccaca886"
      },
      "execution_count": null,
      "outputs": [
        {
          "output_type": "execute_result",
          "data": {
            "text/plain": [
              "15"
            ]
          },
          "metadata": {},
          "execution_count": 104
        }
      ]
    },
    {
      "cell_type": "code",
      "source": [
        "# Define a list of tuples\n",
        "list_t = [(1 , 'one'),(2, 'two'), (3, 'three'), (4, 'four'), (5, 'five'), (6, 'six')]\n",
        "# sort the list of tuples by second element using lambda function\n",
        "# key = custom comparator function using lambda\n",
        "sorted(list_t, key = lambda var : var[1])"
      ],
      "metadata": {
        "colab": {
          "base_uri": "https://localhost:8080/"
        },
        "id": "Sn0bmu8v5n6V",
        "outputId": "998baf56-3b3b-4368-df8b-9ef411b2abcd"
      },
      "execution_count": null,
      "outputs": [
        {
          "output_type": "execute_result",
          "data": {
            "text/plain": [
              "[(5, 'five'), (4, 'four'), (1, 'one'), (6, 'six'), (3, 'three'), (2, 'two')]"
            ]
          },
          "metadata": {},
          "execution_count": 106
        }
      ]
    },
    {
      "cell_type": "code",
      "source": [
        "sorted(list_t, key = lambda var : var[1], reverse = True)"
      ],
      "metadata": {
        "colab": {
          "base_uri": "https://localhost:8080/"
        },
        "id": "f7urQ-7o6qNB",
        "outputId": "261c1a53-e727-492f-8432-aed55579786a"
      },
      "execution_count": null,
      "outputs": [
        {
          "output_type": "execute_result",
          "data": {
            "text/plain": [
              "[(2, 'two'), (3, 'three'), (6, 'six'), (1, 'one'), (4, 'four'), (5, 'five')]"
            ]
          },
          "metadata": {},
          "execution_count": 107
        }
      ]
    },
    {
      "cell_type": "code",
      "source": [],
      "metadata": {
        "id": "yHNUEeXR7eHo"
      },
      "execution_count": null,
      "outputs": []
    }
  ]
}