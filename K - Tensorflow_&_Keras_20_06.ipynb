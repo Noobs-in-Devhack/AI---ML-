{
  "nbformat": 4,
  "nbformat_minor": 0,
  "metadata": {
    "colab": {
      "provenance": [],
      "include_colab_link": true
    },
    "kernelspec": {
      "name": "python3",
      "display_name": "Python 3"
    },
    "language_info": {
      "name": "python"
    }
  },
  "cells": [
    {
      "cell_type": "markdown",
      "metadata": {
        "id": "view-in-github",
        "colab_type": "text"
      },
      "source": [
        "<a href=\"https://colab.research.google.com/github/Noobs-in-Devhack/AI---ML-/blob/main/10%20-%20Tensorflow_%26_Keras_20_06.ipynb\" target=\"_parent\"><img src=\"https://colab.research.google.com/assets/colab-badge.svg\" alt=\"Open In Colab\"/></a>"
      ]
    },
    {
      "cell_type": "code",
      "execution_count": null,
      "metadata": {
        "id": "JpWLvYKUyw0W"
      },
      "outputs": [],
      "source": [
        "# Deep learning core library\n",
        "import tensorflow as tf\n",
        "# High level API\n",
        "import keras"
      ]
    },
    {
      "cell_type": "markdown",
      "source": [
        "#### Tensor\n",
        "  * Tensor is N-Dimensional representation of an Array dataset for various ranks like scalar (rank = 0), vector (rank = 1), matrix (rank = 2), Tensor (3 or higher)."
      ],
      "metadata": {
        "id": "qLceV5KX0XcJ"
      }
    },
    {
      "cell_type": "code",
      "source": [
        "# scalar with tensor rank = 0, dim = 0, dtype = int8/16/32/64,float,object\n",
        "const_1 = tf.constant(100)\n",
        "const_1"
      ],
      "metadata": {
        "colab": {
          "base_uri": "https://localhost:8080/"
        },
        "id": "c71Vn54vzMtg",
        "outputId": "2d92dc5b-597b-4bfc-c007-5a9fce613c0e"
      },
      "execution_count": null,
      "outputs": [
        {
          "output_type": "execute_result",
          "data": {
            "text/plain": [
              "<tf.Tensor: shape=(), dtype=int32, numpy=100>"
            ]
          },
          "metadata": {},
          "execution_count": 7
        }
      ]
    },
    {
      "cell_type": "code",
      "source": [
        "const_1.shape"
      ],
      "metadata": {
        "colab": {
          "base_uri": "https://localhost:8080/"
        },
        "id": "Yj2LS9e31My8",
        "outputId": "aec89bd0-1203-4cad-e912-3cc36e93beb2"
      },
      "execution_count": null,
      "outputs": [
        {
          "output_type": "execute_result",
          "data": {
            "text/plain": [
              "TensorShape([])"
            ]
          },
          "metadata": {},
          "execution_count": 8
        }
      ]
    },
    {
      "cell_type": "code",
      "source": [
        "const_1.numpy()"
      ],
      "metadata": {
        "colab": {
          "base_uri": "https://localhost:8080/"
        },
        "id": "QfZlWWDL1ysG",
        "outputId": "35c25f71-191f-4dba-b8d2-107cf02d4186"
      },
      "execution_count": null,
      "outputs": [
        {
          "output_type": "execute_result",
          "data": {
            "text/plain": [
              "100"
            ]
          },
          "metadata": {},
          "execution_count": 9
        }
      ]
    },
    {
      "cell_type": "code",
      "source": [
        "# const_2 is variable of type 1-D\n",
        "const_2 = tf.constant([10, 20, 30, 40, 50, 60, 70], dtype = 'int8')\n",
        "const_2"
      ],
      "metadata": {
        "colab": {
          "base_uri": "https://localhost:8080/"
        },
        "id": "TR4Jq-cg2LXM",
        "outputId": "ab0e984b-50c8-4c58-9be8-dffa078d4a32"
      },
      "execution_count": null,
      "outputs": [
        {
          "output_type": "execute_result",
          "data": {
            "text/plain": [
              "<tf.Tensor: shape=(7,), dtype=int8, numpy=array([10, 20, 30, 40, 50, 60, 70], dtype=int8)>"
            ]
          },
          "metadata": {},
          "execution_count": 11
        }
      ]
    },
    {
      "cell_type": "code",
      "source": [
        "const_2.shape"
      ],
      "metadata": {
        "colab": {
          "base_uri": "https://localhost:8080/"
        },
        "id": "Rz9jekKo3Tx9",
        "outputId": "1cda6f46-5c01-49ef-b280-0b7ac730a373"
      },
      "execution_count": null,
      "outputs": [
        {
          "output_type": "execute_result",
          "data": {
            "text/plain": [
              "TensorShape([7])"
            ]
          },
          "metadata": {},
          "execution_count": 13
        }
      ]
    },
    {
      "cell_type": "code",
      "source": [
        "const_2.numpy()"
      ],
      "metadata": {
        "colab": {
          "base_uri": "https://localhost:8080/"
        },
        "id": "2R2ewZPm3Wo4",
        "outputId": "95661ae3-43a0-4c44-fbad-95e20fd6594c"
      },
      "execution_count": null,
      "outputs": [
        {
          "output_type": "execute_result",
          "data": {
            "text/plain": [
              "array([10, 20, 30, 40, 50, 60, 70], dtype=int8)"
            ]
          },
          "metadata": {},
          "execution_count": 14
        }
      ]
    },
    {
      "cell_type": "code",
      "source": [
        "const_3 = tf.constant([10.1, 20.2, 30.3, 40.4, 50.5, 60.6, 70.7], dtype = 'float16')\n",
        "const_3"
      ],
      "metadata": {
        "colab": {
          "base_uri": "https://localhost:8080/"
        },
        "id": "roP4DVFO2YBD",
        "outputId": "6a8f1df6-a70a-4bac-bd9a-c994fecac592"
      },
      "execution_count": null,
      "outputs": [
        {
          "output_type": "execute_result",
          "data": {
            "text/plain": [
              "<tf.Tensor: shape=(7,), dtype=float16, numpy=array([10.1, 20.2, 30.3, 40.4, 50.5, 60.6, 70.7], dtype=float16)>"
            ]
          },
          "metadata": {},
          "execution_count": 15
        }
      ]
    },
    {
      "cell_type": "markdown",
      "source": [
        "#### Tensor Matrix"
      ],
      "metadata": {
        "id": "sffG1zds3pDQ"
      }
    },
    {
      "cell_type": "code",
      "source": [
        "const_4 = tf.constant([[20, 30, 40, 60, 70, 12],\n",
        "                       [11, 13, 23, 34, 51, 33],\n",
        "                       [21, 24, 55, 56, 88, 89]])\n",
        "const_4"
      ],
      "metadata": {
        "colab": {
          "base_uri": "https://localhost:8080/"
        },
        "id": "Kmm6t9I32ncs",
        "outputId": "d2aef3f5-75e5-45e6-a925-fbe383561a4d"
      },
      "execution_count": null,
      "outputs": [
        {
          "output_type": "execute_result",
          "data": {
            "text/plain": [
              "<tf.Tensor: shape=(3, 6), dtype=int32, numpy=\n",
              "array([[20, 30, 40, 60, 70, 12],\n",
              "       [11, 13, 23, 34, 51, 33],\n",
              "       [21, 24, 55, 56, 88, 89]], dtype=int32)>"
            ]
          },
          "metadata": {},
          "execution_count": 27
        }
      ]
    },
    {
      "cell_type": "code",
      "source": [
        "const_4.shape   # 3 = rows, 6 = columns"
      ],
      "metadata": {
        "colab": {
          "base_uri": "https://localhost:8080/"
        },
        "id": "XGc6-8-s4Jh4",
        "outputId": "62bce43a-24a9-4d3d-ab0f-eb49427bf180"
      },
      "execution_count": null,
      "outputs": [
        {
          "output_type": "execute_result",
          "data": {
            "text/plain": [
              "TensorShape([3, 6])"
            ]
          },
          "metadata": {},
          "execution_count": 28
        }
      ]
    },
    {
      "cell_type": "code",
      "source": [
        "const_4.numpy()   # prints \"const_4\" matrix"
      ],
      "metadata": {
        "colab": {
          "base_uri": "https://localhost:8080/"
        },
        "id": "5G0RB8Sa4L9z",
        "outputId": "0b64fbbe-343d-44da-8dc5-ba5b79227ad1"
      },
      "execution_count": null,
      "outputs": [
        {
          "output_type": "execute_result",
          "data": {
            "text/plain": [
              "array([[20, 30, 40, 60, 70, 12],\n",
              "       [11, 13, 23, 34, 51, 33],\n",
              "       [21, 24, 55, 56, 88, 89]], dtype=int32)"
            ]
          },
          "metadata": {},
          "execution_count": 29
        }
      ]
    },
    {
      "cell_type": "markdown",
      "source": [
        "#### Tensors - N-Dimensional Data\n",
        "    * This is immutable collection of data."
      ],
      "metadata": {
        "id": "1i5iJQjl5YCb"
      }
    },
    {
      "cell_type": "code",
      "source": [
        "# Array of Matrix\n",
        "const_5 = tf.constant([[[20, 30, 40, 50, 60, 70, 80],\n",
        "                        [31, 32, 35, 42, 45, 55, 67],\n",
        "                        [2, 13, 19, 21, 56, 29, 33]],\n",
        "\n",
        "                       [[20, 30, 40, 50, 60, 70, 80],\n",
        "                        [31, 32, 35, 42, 45, 55, 67],\n",
        "                        [2, 13, 19, 21, 23, 29, 33]]], dtype = 'float16')"
      ],
      "metadata": {
        "id": "EUMlrpg74UXs"
      },
      "execution_count": null,
      "outputs": []
    },
    {
      "cell_type": "code",
      "source": [
        "const_5.shape"
      ],
      "metadata": {
        "colab": {
          "base_uri": "https://localhost:8080/"
        },
        "id": "Gpq3RhlW558L",
        "outputId": "1b988847-e13a-426d-b882-61d9ccb7d978"
      },
      "execution_count": null,
      "outputs": [
        {
          "output_type": "execute_result",
          "data": {
            "text/plain": [
              "TensorShape([2, 3, 7])"
            ]
          },
          "metadata": {},
          "execution_count": 31
        }
      ]
    },
    {
      "cell_type": "code",
      "source": [
        "const_5.numpy()"
      ],
      "metadata": {
        "colab": {
          "base_uri": "https://localhost:8080/"
        },
        "id": "5iXT-2j358KO",
        "outputId": "b188d6e2-e5d3-4a3f-cb97-4f7c71d9f4ae"
      },
      "execution_count": null,
      "outputs": [
        {
          "output_type": "execute_result",
          "data": {
            "text/plain": [
              "array([[[20., 30., 40., 50., 60., 70., 80.],\n",
              "        [31., 32., 35., 42., 45., 55., 67.],\n",
              "        [ 2., 13., 19., 21., 23., 29., 33.]],\n",
              "\n",
              "       [[20., 30., 40., 50., 60., 70., 80.],\n",
              "        [31., 32., 35., 42., 45., 55., 67.],\n",
              "        [ 2., 13., 19., 21., 23., 29., 33.]]], dtype=float16)"
            ]
          },
          "metadata": {},
          "execution_count": 32
        }
      ]
    },
    {
      "cell_type": "code",
      "source": [
        "# indexing - 0th Row (First Row) & 1st Col (2nd Column)\n",
        "const_4[0, 1]"
      ],
      "metadata": {
        "colab": {
          "base_uri": "https://localhost:8080/"
        },
        "id": "JU4gZTcy6AUE",
        "outputId": "41a864b4-08aa-4e86-f8fd-7b8596008bcd"
      },
      "execution_count": null,
      "outputs": [
        {
          "output_type": "execute_result",
          "data": {
            "text/plain": [
              "<tf.Tensor: shape=(), dtype=int32, numpy=30>"
            ]
          },
          "metadata": {},
          "execution_count": 39
        }
      ]
    },
    {
      "cell_type": "code",
      "source": [
        "const_4[0, 1] = 23    # Immutablity of tf.constant() will not allow to update or any new value"
      ],
      "metadata": {
        "colab": {
          "base_uri": "https://localhost:8080/",
          "height": 162
        },
        "id": "urYpbUVQ7zkx",
        "outputId": "89d30560-d0f9-4455-fd16-5cf1a1639f2c"
      },
      "execution_count": null,
      "outputs": [
        {
          "output_type": "error",
          "ename": "TypeError",
          "evalue": "'tensorflow.python.framework.ops.EagerTensor' object does not support item assignment",
          "traceback": [
            "\u001b[0;31m---------------------------------------------------------------------------\u001b[0m",
            "\u001b[0;31mTypeError\u001b[0m                                 Traceback (most recent call last)",
            "\u001b[0;32m<ipython-input-40-1a61a5c5b673>\u001b[0m in \u001b[0;36m<cell line: 1>\u001b[0;34m()\u001b[0m\n\u001b[0;32m----> 1\u001b[0;31m \u001b[0mconst_4\u001b[0m\u001b[0;34m[\u001b[0m\u001b[0;36m0\u001b[0m\u001b[0;34m,\u001b[0m \u001b[0;36m1\u001b[0m\u001b[0;34m]\u001b[0m \u001b[0;34m=\u001b[0m \u001b[0;36m23\u001b[0m\u001b[0;34m\u001b[0m\u001b[0;34m\u001b[0m\u001b[0m\n\u001b[0m",
            "\u001b[0;31mTypeError\u001b[0m: 'tensorflow.python.framework.ops.EagerTensor' object does not support item assignment"
          ]
        }
      ]
    },
    {
      "cell_type": "markdown",
      "source": [
        "#### Tensorflow Variable Declaration\n",
        "    * Mutable collection of datatype."
      ],
      "metadata": {
        "id": "wJVtBVRN9pDK"
      }
    },
    {
      "cell_type": "code",
      "source": [
        "# basic variable declaration\n",
        "tensor_var1 =  tf.Variable([1.0, 2.0, 3.0, 4.0, 5.0, 6.0, 7.0], dtype = tf.float16)"
      ],
      "metadata": {
        "id": "lxMy54uU8TDm"
      },
      "execution_count": null,
      "outputs": []
    },
    {
      "cell_type": "code",
      "source": [
        "tensor_var1.shape"
      ],
      "metadata": {
        "colab": {
          "base_uri": "https://localhost:8080/"
        },
        "id": "gwfnn2ui-A_k",
        "outputId": "7b3f1811-1a40-4d97-c4de-5c9a20ef81b1"
      },
      "execution_count": null,
      "outputs": [
        {
          "output_type": "execute_result",
          "data": {
            "text/plain": [
              "TensorShape([7])"
            ]
          },
          "metadata": {},
          "execution_count": 43
        }
      ]
    },
    {
      "cell_type": "code",
      "source": [
        "# Update the existing value in tensor\n",
        "tensor_var1[1].assign(15.0)"
      ],
      "metadata": {
        "colab": {
          "base_uri": "https://localhost:8080/"
        },
        "id": "zN2k97Hy-Upd",
        "outputId": "4e5c93f4-8903-4745-9a2f-fad449797eb1"
      },
      "execution_count": null,
      "outputs": [
        {
          "output_type": "execute_result",
          "data": {
            "text/plain": [
              "<tf.Variable 'UnreadVariable' shape=(7,) dtype=float16, numpy=array([ 1., 15.,  3.,  4.,  5.,  6.,  7.], dtype=float16)>"
            ]
          },
          "metadata": {},
          "execution_count": 52
        }
      ]
    },
    {
      "cell_type": "markdown",
      "source": [
        "##### Mathematical Operations"
      ],
      "metadata": {
        "id": "z-Eys8p7BKPd"
      }
    },
    {
      "cell_type": "code",
      "source": [
        "a = tf.constant(50)\n",
        "b = tf.constant(60)\n",
        "tf.add(a, b)"
      ],
      "metadata": {
        "colab": {
          "base_uri": "https://localhost:8080/"
        },
        "id": "_aEEKIFn_qat",
        "outputId": "48fbaf8e-4ef1-44e2-9e78-078d1566f39a"
      },
      "execution_count": null,
      "outputs": [
        {
          "output_type": "execute_result",
          "data": {
            "text/plain": [
              "<tf.Tensor: shape=(), dtype=int32, numpy=110>"
            ]
          },
          "metadata": {},
          "execution_count": 54
        }
      ]
    },
    {
      "cell_type": "code",
      "source": [
        "c = tf.Variable(40)\n",
        "d = tf.Variable(30)\n",
        "output = tf.add(c, d)"
      ],
      "metadata": {
        "id": "U31ylxxUBYLq"
      },
      "execution_count": null,
      "outputs": []
    },
    {
      "cell_type": "code",
      "source": [
        "c"
      ],
      "metadata": {
        "colab": {
          "base_uri": "https://localhost:8080/"
        },
        "id": "tYxA_VeiCUX7",
        "outputId": "5a6da599-408f-496a-f3c5-eaa6871aef6d"
      },
      "execution_count": null,
      "outputs": [
        {
          "output_type": "execute_result",
          "data": {
            "text/plain": [
              "<tf.Variable 'Variable:0' shape=() dtype=int32, numpy=40>"
            ]
          },
          "metadata": {},
          "execution_count": 60
        }
      ]
    },
    {
      "cell_type": "code",
      "source": [
        "print(\"Result of variable c & d: \", output.numpy())"
      ],
      "metadata": {
        "colab": {
          "base_uri": "https://localhost:8080/"
        },
        "id": "OfnIN5tPBz5Y",
        "outputId": "9baa925b-83bd-494f-ad13-1c6737b4a5a5"
      },
      "execution_count": null,
      "outputs": [
        {
          "output_type": "stream",
          "name": "stdout",
          "text": [
            "Result of variable c & d:  70\n"
          ]
        }
      ]
    },
    {
      "cell_type": "code",
      "source": [
        "# Concatenate\n",
        "a = tf.Variable([[10, 20, 30],\n",
        "                [40, 50, 60]])\n",
        "b = tf.Variable([[20, 30, 40],\n",
        "                [50, 60, 80]])"
      ],
      "metadata": {
        "id": "q4MEodU8CA8i"
      },
      "execution_count": null,
      "outputs": []
    },
    {
      "cell_type": "code",
      "source": [
        "tf.concat([a, b], axis = 0)    # axis = 0 (rowwise - concatination)"
      ],
      "metadata": {
        "colab": {
          "base_uri": "https://localhost:8080/"
        },
        "id": "iIwwMTi1DDgh",
        "outputId": "62c0c7fe-eff9-4ce1-8674-25972ef5d81a"
      },
      "execution_count": null,
      "outputs": [
        {
          "output_type": "execute_result",
          "data": {
            "text/plain": [
              "<tf.Tensor: shape=(4, 3), dtype=int32, numpy=\n",
              "array([[10, 20, 30],\n",
              "       [40, 50, 60],\n",
              "       [20, 30, 40],\n",
              "       [50, 60, 80]], dtype=int32)>"
            ]
          },
          "metadata": {},
          "execution_count": 66
        }
      ]
    },
    {
      "cell_type": "code",
      "source": [
        "tf.concat([a, b], axis = 1)   # axis = 1 (columnwise - concatination)"
      ],
      "metadata": {
        "colab": {
          "base_uri": "https://localhost:8080/"
        },
        "id": "UVOO80MODJeR",
        "outputId": "abbcb39b-6b86-4e24-e492-be879d3ca360"
      },
      "execution_count": null,
      "outputs": [
        {
          "output_type": "execute_result",
          "data": {
            "text/plain": [
              "<tf.Tensor: shape=(2, 6), dtype=int32, numpy=\n",
              "array([[10, 20, 30, 20, 30, 40],\n",
              "       [40, 50, 60, 50, 60, 80]], dtype=int32)>"
            ]
          },
          "metadata": {},
          "execution_count": 67
        }
      ]
    },
    {
      "cell_type": "code",
      "source": [
        "X = tf.constant([[2],\n",
        "                 [8],\n",
        "                 [11],\n",
        "                 [5],\n",
        "                 [7],\n",
        "                 [12]], dtype = 'float16')\n",
        "X"
      ],
      "metadata": {
        "colab": {
          "base_uri": "https://localhost:8080/"
        },
        "id": "x_Dy2VO4DMF2",
        "outputId": "d001c564-bc6e-46d1-cfc3-129053d31a4e"
      },
      "execution_count": null,
      "outputs": [
        {
          "output_type": "execute_result",
          "data": {
            "text/plain": [
              "<tf.Tensor: shape=(6, 1), dtype=float16, numpy=\n",
              "array([[ 2.],\n",
              "       [ 8.],\n",
              "       [11.],\n",
              "       [ 5.],\n",
              "       [ 7.],\n",
              "       [12.]], dtype=float16)>"
            ]
          },
          "metadata": {},
          "execution_count": 68
        }
      ]
    },
    {
      "cell_type": "code",
      "source": [
        "Weights = tf.Variable([[10],\n",
        "                       [11],\n",
        "                       [6],\n",
        "                       [5],\n",
        "                       [2],\n",
        "                       [7]], dtype = 'float16')\n",
        "Weights"
      ],
      "metadata": {
        "colab": {
          "base_uri": "https://localhost:8080/"
        },
        "id": "2KeHgpNiHvXW",
        "outputId": "8607ed9d-caf0-44b8-8a73-3a10f83617db"
      },
      "execution_count": null,
      "outputs": [
        {
          "output_type": "execute_result",
          "data": {
            "text/plain": [
              "<tf.Variable 'Variable:0' shape=(6, 1) dtype=float16, numpy=\n",
              "array([[10.],\n",
              "       [11.],\n",
              "       [ 6.],\n",
              "       [ 5.],\n",
              "       [ 2.],\n",
              "       [ 7.]], dtype=float16)>"
            ]
          },
          "metadata": {},
          "execution_count": 70
        }
      ]
    },
    {
      "cell_type": "code",
      "source": [
        "WT = tf.transpose(Weights)"
      ],
      "metadata": {
        "id": "J3tpkQwnIFLM"
      },
      "execution_count": null,
      "outputs": []
    },
    {
      "cell_type": "code",
      "source": [
        "# Y = WT * X\n",
        "tf.matmul(WT, X)"
      ],
      "metadata": {
        "colab": {
          "base_uri": "https://localhost:8080/"
        },
        "id": "wR2w66-ZIVte",
        "outputId": "cca74098-8877-4bad-cec4-70396d1f6c53"
      },
      "execution_count": null,
      "outputs": [
        {
          "output_type": "execute_result",
          "data": {
            "text/plain": [
              "<tf.Tensor: shape=(1, 1), dtype=float16, numpy=array([[297.]], dtype=float16)>"
            ]
          },
          "metadata": {},
          "execution_count": 73
        }
      ]
    },
    {
      "cell_type": "markdown",
      "source": [
        "#### Dense Neural Network"
      ],
      "metadata": {
        "id": "rgTbiw59JZW2"
      }
    },
    {
      "cell_type": "code",
      "source": [
        "from tensorflow.keras.layers import Dense\n",
        "from tensorflow.keras.models import Sequential\n",
        "# Optimizers - RMSprop, Adam, SGD, AdaGrad\n",
        "from tensorflow.keras.optimizers import RMSprop"
      ],
      "metadata": {
        "id": "EpvraojRInCE"
      },
      "execution_count": null,
      "outputs": []
    },
    {
      "cell_type": "code",
      "source": [
        "def build_model():\n",
        "    model = Sequential()\n",
        "    # units = num of neurons in each layer (2 * pow(n)), input_shape = num of features or shape of input matrix\n",
        "    model.add(Dense(units = 16, activation = 'relu', input_shape = [7]))\n",
        "    # Hidden Layer - I\n",
        "    model.add(Dense(units = 32, activation = 'relu'))\n",
        "    # Hidden Layer - II\n",
        "    model.add(Dense(units = 64, activation = 'relu'))\n",
        "    # Output Layer - Regression\n",
        "    model.add(Dense(units = 1))\n",
        "    # error/loss function = For Regression it's MSE,\n",
        "    model.compile(loss = \"mean_squared_error\", optimizer = \"RMSprop\", metrics = ['mean_squared_error',\n",
        "                                                                                  'mean_absolute_error'])\n",
        "    return model"
      ],
      "metadata": {
        "id": "et4xx4NzKTzr"
      },
      "execution_count": null,
      "outputs": []
    },
    {
      "cell_type": "code",
      "source": [
        "model = build_model()"
      ],
      "metadata": {
        "id": "E0gu0AACNHB_"
      },
      "execution_count": null,
      "outputs": []
    },
    {
      "cell_type": "code",
      "source": [
        "model.summary()"
      ],
      "metadata": {
        "colab": {
          "base_uri": "https://localhost:8080/"
        },
        "id": "95w8X0dtNZGm",
        "outputId": "336afa85-ec1f-4e62-8af6-775912bb2462"
      },
      "execution_count": null,
      "outputs": [
        {
          "output_type": "stream",
          "name": "stdout",
          "text": [
            "Model: \"sequential_1\"\n",
            "_________________________________________________________________\n",
            " Layer (type)                Output Shape              Param #   \n",
            "=================================================================\n",
            " dense_4 (Dense)             (None, 16)                128       \n",
            "                                                                 \n",
            " dense_5 (Dense)             (None, 32)                544       \n",
            "                                                                 \n",
            " dense_6 (Dense)             (None, 64)                2112      \n",
            "                                                                 \n",
            " dense_7 (Dense)             (None, 1)                 65        \n",
            "                                                                 \n",
            "=================================================================\n",
            "Total params: 2849 (11.13 KB)\n",
            "Trainable params: 2849 (11.13 KB)\n",
            "Non-trainable params: 0 (0.00 Byte)\n",
            "_________________________________________________________________\n"
          ]
        }
      ]
    },
    {
      "cell_type": "code",
      "source": [
        "tf.keras.utils.plot_model(model, to_file = 'model_plot.png', show_shapes = True, show_layer_names = True)"
      ],
      "metadata": {
        "colab": {
          "base_uri": "https://localhost:8080/",
          "height": 533
        },
        "id": "i9HRRh0aNmBt",
        "outputId": "3017fc37-215a-4955-c2bf-a0d4b380db01"
      },
      "execution_count": null,
      "outputs": [
        {
          "output_type": "execute_result",
          "data": {
            "image/png": "[encoded data removed]",
            "text/plain": [
              "<IPython.core.display.Image object>"
            ]
          },
          "metadata": {},
          "execution_count": 83
        }
      ]
    },
    {
      "cell_type": "code",
      "source": [],
      "metadata": {
        "id": "dTyOeKasPB3_"
      },
      "execution_count": null,
      "outputs": []
    }
  ]
}
