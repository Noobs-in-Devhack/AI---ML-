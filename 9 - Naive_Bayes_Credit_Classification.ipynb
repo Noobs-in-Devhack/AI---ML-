{
  "nbformat": 4,
  "nbformat_minor": 0,
  "metadata": {
    "colab": {
      "provenance": [],
      "include_colab_link": true
    },
    "kernelspec": {
      "name": "python3",
      "display_name": "Python 3"
    },
    "language_info": {
      "name": "python"
    }
  },
  "cells": [
    {
      "cell_type": "markdown",
      "metadata": {
        "id": "view-in-github",
        "colab_type": "text"
      },
      "source": [
        "<a href=\"https://colab.research.google.com/github/Noobs-in-Devhack/AI---ML-/blob/main/9%20-%20Naive_Bayes_Credit_Classification.ipynb\" target=\"_parent\"><img src=\"https://colab.research.google.com/assets/colab-badge.svg\" alt=\"Open In Colab\"/></a>"
      ]
    },
    {
      "cell_type": "markdown",
      "source": [
        "#### Step 1. Import Library & Read Dataset"
      ],
      "metadata": {
        "id": "DXTWgVNeQhkW"
      }
    },
    {
      "cell_type": "code",
      "execution_count": null,
      "metadata": {
        "id": "0zvX7csWPJLK"
      },
      "outputs": [],
      "source": [
        "import numpy as np\n",
        "import pandas as pd\n",
        "import matplotlib.pyplot as plt\n",
        "import seaborn as sns"
      ]
    },
    {
      "cell_type": "code",
      "source": [
        "credit_df = pd.read_csv(\"https://raw.githubusercontent.com/ammishra08/MachineLearning/master/Datasets/credit_train.csv\")\n",
        "credit_df.head()"
      ],
      "metadata": {
        "colab": {
          "base_uri": "https://localhost:8080/",
          "height": 538
        },
        "id": "d584i6GHPu55",
        "outputId": "dd6a0315-6c9b-4c31-ac4f-5775b54e7624"
      },
      "execution_count": null,
      "outputs": [
        {
          "output_type": "execute_result",
          "data": {
            "text/plain": [
              "                                Loan ID                           Customer ID  \\\n",
              "0  14dd8831-6af5-400b-83ec-68e61888a048  981165ec-3274-42f5-a3b4-d104041a9ca9   \n",
              "1  4771cc26-131a-45db-b5aa-537ea4ba5342  2de017a3-2e01-49cb-a581-08169e83be29   \n",
              "2  4eed4e6a-aa2f-4c91-8651-ce984ee8fb26  5efb2b2b-bf11-4dfd-a572-3761a2694725   \n",
              "3  77598f7b-32e7-4e3b-a6e5-06ba0d98fe8a  e777faab-98ae-45af-9a86-7ce5b33b1011   \n",
              "4  d4062e70-befa-4995-8643-a0de73938182  81536ad9-5ccf-4eb8-befb-47a4d608658e   \n",
              "\n",
              "  Loan Status  Current Loan Amount        Term  Credit Score  Annual Income  \\\n",
              "0  Fully Paid               445412  Short Term         709.0      1167493.0   \n",
              "1  Fully Paid               262328  Short Term           NaN            NaN   \n",
              "2  Fully Paid             99999999  Short Term         741.0      2231892.0   \n",
              "3  Fully Paid               347666   Long Term         721.0       806949.0   \n",
              "4  Fully Paid               176220  Short Term           NaN            NaN   \n",
              "\n",
              "  Years in current job Home Ownership             Purpose  Monthly Debt  \\\n",
              "0              8 years  Home Mortgage   Home Improvements       5214.74   \n",
              "1            10+ years  Home Mortgage  Debt Consolidation      33295.98   \n",
              "2              8 years       Own Home  Debt Consolidation      29200.53   \n",
              "3              3 years       Own Home  Debt Consolidation       8741.90   \n",
              "4              5 years           Rent  Debt Consolidation      20639.70   \n",
              "\n",
              "   Years of Credit History  Months since last delinquent  \\\n",
              "0                     17.2                           NaN   \n",
              "1                     21.1                           8.0   \n",
              "2                     14.9                          29.0   \n",
              "3                     12.0                           NaN   \n",
              "4                      6.1                           NaN   \n",
              "\n",
              "   Number of Open Accounts  Number of Credit Problems  Current Credit Balance  \\\n",
              "0                        6                          1                  228190   \n",
              "1                       35                          0                  229976   \n",
              "2                       18                          1                  297996   \n",
              "3                        9                          0                  256329   \n",
              "4                       15                          0                  253460   \n",
              "\n",
              "   Maximum Open Credit  Bankruptcies  Tax Liens  \n",
              "0             416746.0           1.0        0.0  \n",
              "1             850784.0           0.0        0.0  \n",
              "2             750090.0           0.0        0.0  \n",
              "3             386958.0           0.0        0.0  \n",
              "4             427174.0           0.0        0.0  "
            ],
            "text/html": [
              "\n",
              "  <div id=\"df-979aa8fd-65d1-47c9-bb70-781811eed8bf\" class=\"colab-df-container\">\n",
              "    <div>\n",
              "<style scoped>\n",
              "    .dataframe tbody tr th:only-of-type {\n",
              "        vertical-align: middle;\n",
              "    }\n",
              "\n",
              "    .dataframe tbody tr th {\n",
              "        vertical-align: top;\n",
              "    }\n",
              "\n",
              "    .dataframe thead th {\n",
              "        text-align: right;\n",
              "    }\n",
              "</style>\n",
              "<table border=\"1\" class=\"dataframe\">\n",
              "  <thead>\n",
              "    <tr style=\"text-align: right;\">\n",
              "      <th></th>\n",
              "      <th>Loan ID</th>\n",
              "      <th>Customer ID</th>\n",
              "      <th>Loan Status</th>\n",
              "      <th>Current Loan Amount</th>\n",
              "      <th>Term</th>\n",
              "      <th>Credit Score</th>\n",
              "      <th>Annual Income</th>\n",
              "      <th>Years in current job</th>\n",
              "      <th>Home Ownership</th>\n",
              "      <th>Purpose</th>\n",
              "      <th>Monthly Debt</th>\n",
              "      <th>Years of Credit History</th>\n",
              "      <th>Months since last delinquent</th>\n",
              "      <th>Number of Open Accounts</th>\n",
              "      <th>Number of Credit Problems</th>\n",
              "      <th>Current Credit Balance</th>\n",
              "      <th>Maximum Open Credit</th>\n",
              "      <th>Bankruptcies</th>\n",
              "      <th>Tax Liens</th>\n",
              "    </tr>\n",
              "  </thead>\n",
              "  <tbody>\n",
              "    <tr>\n",
              "      <th>0</th>\n",
              "      <td>14dd8831-6af5-400b-83ec-68e61888a048</td>\n",
              "      <td>981165ec-3274-42f5-a3b4-d104041a9ca9</td>\n",
              "      <td>Fully Paid</td>\n",
              "      <td>445412</td>\n",
              "      <td>Short Term</td>\n",
              "      <td>709.0</td>\n",
              "      <td>1167493.0</td>\n",
              "      <td>8 years</td>\n",
              "      <td>Home Mortgage</td>\n",
              "      <td>Home Improvements</td>\n",
              "      <td>5214.74</td>\n",
              "      <td>17.2</td>\n",
              "      <td>NaN</td>\n",
              "      <td>6</td>\n",
              "      <td>1</td>\n",
              "      <td>228190</td>\n",
              "      <td>416746.0</td>\n",
              "      <td>1.0</td>\n",
              "      <td>0.0</td>\n",
              "    </tr>\n",
              "    <tr>\n",
              "      <th>1</th>\n",
              "      <td>4771cc26-131a-45db-b5aa-537ea4ba5342</td>\n",
              "      <td>2de017a3-2e01-49cb-a581-08169e83be29</td>\n",
              "      <td>Fully Paid</td>\n",
              "      <td>262328</td>\n",
              "      <td>Short Term</td>\n",
              "      <td>NaN</td>\n",
              "      <td>NaN</td>\n",
              "      <td>10+ years</td>\n",
              "      <td>Home Mortgage</td>\n",
              "      <td>Debt Consolidation</td>\n",
              "      <td>33295.98</td>\n",
              "      <td>21.1</td>\n",
              "      <td>8.0</td>\n",
              "      <td>35</td>\n",
              "      <td>0</td>\n",
              "      <td>229976</td>\n",
              "      <td>850784.0</td>\n",
              "      <td>0.0</td>\n",
              "      <td>0.0</td>\n",
              "    </tr>\n",
              "    <tr>\n",
              "      <th>2</th>\n",
              "      <td>4eed4e6a-aa2f-4c91-8651-ce984ee8fb26</td>\n",
              "      <td>5efb2b2b-bf11-4dfd-a572-3761a2694725</td>\n",
              "      <td>Fully Paid</td>\n",
              "      <td>99999999</td>\n",
              "      <td>Short Term</td>\n",
              "      <td>741.0</td>\n",
              "      <td>2231892.0</td>\n",
              "      <td>8 years</td>\n",
              "      <td>Own Home</td>\n",
              "      <td>Debt Consolidation</td>\n",
              "      <td>29200.53</td>\n",
              "      <td>14.9</td>\n",
              "      <td>29.0</td>\n",
              "      <td>18</td>\n",
              "      <td>1</td>\n",
              "      <td>297996</td>\n",
              "      <td>750090.0</td>\n",
              "      <td>0.0</td>\n",
              "      <td>0.0</td>\n",
              "    </tr>\n",
              "    <tr>\n",
              "      <th>3</th>\n",
              "      <td>77598f7b-32e7-4e3b-a6e5-06ba0d98fe8a</td>\n",
              "      <td>e777faab-98ae-45af-9a86-7ce5b33b1011</td>\n",
              "      <td>Fully Paid</td>\n",
              "      <td>347666</td>\n",
              "      <td>Long Term</td>\n",
              "      <td>721.0</td>\n",
              "      <td>806949.0</td>\n",
              "      <td>3 years</td>\n",
              "      <td>Own Home</td>\n",
              "      <td>Debt Consolidation</td>\n",
              "      <td>8741.90</td>\n",
              "      <td>12.0</td>\n",
              "      <td>NaN</td>\n",
              "      <td>9</td>\n",
              "      <td>0</td>\n",
              "      <td>256329</td>\n",
              "      <td>386958.0</td>\n",
              "      <td>0.0</td>\n",
              "      <td>0.0</td>\n",
              "    </tr>\n",
              "    <tr>\n",
              "      <th>4</th>\n",
              "      <td>d4062e70-befa-4995-8643-a0de73938182</td>\n",
              "      <td>81536ad9-5ccf-4eb8-befb-47a4d608658e</td>\n",
              "      <td>Fully Paid</td>\n",
              "      <td>176220</td>\n",
              "      <td>Short Term</td>\n",
              "      <td>NaN</td>\n",
              "      <td>NaN</td>\n",
              "      <td>5 years</td>\n",
              "      <td>Rent</td>\n",
              "      <td>Debt Consolidation</td>\n",
              "      <td>20639.70</td>\n",
              "      <td>6.1</td>\n",
              "      <td>NaN</td>\n",
              "      <td>15</td>\n",
              "      <td>0</td>\n",
              "      <td>253460</td>\n",
              "      <td>427174.0</td>\n",
              "      <td>0.0</td>\n",
              "      <td>0.0</td>\n",
              "    </tr>\n",
              "  </tbody>\n",
              "</table>\n",
              "</div>\n",
              "    <div class=\"colab-df-buttons\">\n",
              "\n",
              "  <div class=\"colab-df-container\">\n",
              "    <button class=\"colab-df-convert\" onclick=\"convertToInteractive('df-979aa8fd-65d1-47c9-bb70-781811eed8bf')\"\n",
              "            title=\"Convert this dataframe to an interactive table.\"\n",
              "            style=\"display:none;\">\n",
              "\n",
              "  <svg xmlns=\"http://www.w3.org/2000/svg\" height=\"24px\" viewBox=\"0 -960 960 960\">\n",
              "    <path d=\"M120-120v-720h720v720H120Zm60-500h600v-160H180v160Zm220 220h160v-160H400v160Zm0 220h160v-160H400v160ZM180-400h160v-160H180v160Zm440 0h160v-160H620v160ZM180-180h160v-160H180v160Zm440 0h160v-160H620v160Z\"/>\n",
              "  </svg>\n",
              "    </button>\n",
              "\n",
              "  <style>\n",
              "    .colab-df-container {\n",
              "      display:flex;\n",
              "      gap: 12px;\n",
              "    }\n",
              "\n",
              "    .colab-df-convert {\n",
              "      background-color: #E8F0FE;\n",
              "      border: none;\n",
              "      border-radius: 50%;\n",
              "      cursor: pointer;\n",
              "      display: none;\n",
              "      fill: #1967D2;\n",
              "      height: 32px;\n",
              "      padding: 0 0 0 0;\n",
              "      width: 32px;\n",
              "    }\n",
              "\n",
              "    .colab-df-convert:hover {\n",
              "      background-color: #E2EBFA;\n",
              "      box-shadow: 0px 1px 2px rgba(60, 64, 67, 0.3), 0px 1px 3px 1px rgba(60, 64, 67, 0.15);\n",
              "      fill: #174EA6;\n",
              "    }\n",
              "\n",
              "    .colab-df-buttons div {\n",
              "      margin-bottom: 4px;\n",
              "    }\n",
              "\n",
              "    [theme=dark] .colab-df-convert {\n",
              "      background-color: #3B4455;\n",
              "      fill: #D2E3FC;\n",
              "    }\n",
              "\n",
              "    [theme=dark] .colab-df-convert:hover {\n",
              "      background-color: #434B5C;\n",
              "      box-shadow: 0px 1px 3px 1px rgba(0, 0, 0, 0.15);\n",
              "      filter: drop-shadow(0px 1px 2px rgba(0, 0, 0, 0.3));\n",
              "      fill: #FFFFFF;\n",
              "    }\n",
              "  </style>\n",
              "\n",
              "    <script>\n",
              "      const buttonEl =\n",
              "        document.querySelector('#df-979aa8fd-65d1-47c9-bb70-781811eed8bf button.colab-df-convert');\n",
              "      buttonEl.style.display =\n",
              "        google.colab.kernel.accessAllowed ? 'block' : 'none';\n",
              "\n",
              "      async function convertToInteractive(key) {\n",
              "        const element = document.querySelector('#df-979aa8fd-65d1-47c9-bb70-781811eed8bf');\n",
              "        const dataTable =\n",
              "          await google.colab.kernel.invokeFunction('convertToInteractive',\n",
              "                                                    [key], {});\n",
              "        if (!dataTable) return;\n",
              "\n",
              "        const docLinkHtml = 'Like what you see? Visit the ' +\n",
              "          '<a target=\"_blank\" href=https://colab.research.google.com/notebooks/data_table.ipynb>data table notebook</a>'\n",
              "          + ' to learn more about interactive tables.';\n",
              "        element.innerHTML = '';\n",
              "        dataTable['output_type'] = 'display_data';\n",
              "        await google.colab.output.renderOutput(dataTable, element);\n",
              "        const docLink = document.createElement('div');\n",
              "        docLink.innerHTML = docLinkHtml;\n",
              "        element.appendChild(docLink);\n",
              "      }\n",
              "    </script>\n",
              "  </div>\n",
              "\n",
              "\n",
              "<div id=\"df-befafd35-53d8-4e04-be37-f7736dd57ee8\">\n",
              "  <button class=\"colab-df-quickchart\" onclick=\"quickchart('df-befafd35-53d8-4e04-be37-f7736dd57ee8')\"\n",
              "            title=\"Suggest charts\"\n",
              "            style=\"display:none;\">\n",
              "\n",
              "<svg xmlns=\"http://www.w3.org/2000/svg\" height=\"24px\"viewBox=\"0 0 24 24\"\n",
              "     width=\"24px\">\n",
              "    <g>\n",
              "        <path d=\"M19 3H5c-1.1 0-2 .9-2 2v14c0 1.1.9 2 2 2h14c1.1 0 2-.9 2-2V5c0-1.1-.9-2-2-2zM9 17H7v-7h2v7zm4 0h-2V7h2v10zm4 0h-2v-4h2v4z\"/>\n",
              "    </g>\n",
              "</svg>\n",
              "  </button>\n",
              "\n",
              "<style>\n",
              "  .colab-df-quickchart {\n",
              "      --bg-color: #E8F0FE;\n",
              "      --fill-color: #1967D2;\n",
              "      --hover-bg-color: #E2EBFA;\n",
              "      --hover-fill-color: #174EA6;\n",
              "      --disabled-fill-color: #AAA;\n",
              "      --disabled-bg-color: #DDD;\n",
              "  }\n",
              "\n",
              "  [theme=dark] .colab-df-quickchart {\n",
              "      --bg-color: #3B4455;\n",
              "      --fill-color: #D2E3FC;\n",
              "      --hover-bg-color: #434B5C;\n",
              "      --hover-fill-color: #FFFFFF;\n",
              "      --disabled-bg-color: #3B4455;\n",
              "      --disabled-fill-color: #666;\n",
              "  }\n",
              "\n",
              "  .colab-df-quickchart {\n",
              "    background-color: var(--bg-color);\n",
              "    border: none;\n",
              "    border-radius: 50%;\n",
              "    cursor: pointer;\n",
              "    display: none;\n",
              "    fill: var(--fill-color);\n",
              "    height: 32px;\n",
              "    padding: 0;\n",
              "    width: 32px;\n",
              "  }\n",
              "\n",
              "  .colab-df-quickchart:hover {\n",
              "    background-color: var(--hover-bg-color);\n",
              "    box-shadow: 0 1px 2px rgba(60, 64, 67, 0.3), 0 1px 3px 1px rgba(60, 64, 67, 0.15);\n",
              "    fill: var(--button-hover-fill-color);\n",
              "  }\n",
              "\n",
              "  .colab-df-quickchart-complete:disabled,\n",
              "  .colab-df-quickchart-complete:disabled:hover {\n",
              "    background-color: var(--disabled-bg-color);\n",
              "    fill: var(--disabled-fill-color);\n",
              "    box-shadow: none;\n",
              "  }\n",
              "\n",
              "  .colab-df-spinner {\n",
              "    border: 2px solid var(--fill-color);\n",
              "    border-color: transparent;\n",
              "    border-bottom-color: var(--fill-color);\n",
              "    animation:\n",
              "      spin 1s steps(1) infinite;\n",
              "  }\n",
              "\n",
              "  @keyframes spin {\n",
              "    0% {\n",
              "      border-color: transparent;\n",
              "      border-bottom-color: var(--fill-color);\n",
              "      border-left-color: var(--fill-color);\n",
              "    }\n",
              "    20% {\n",
              "      border-color: transparent;\n",
              "      border-left-color: var(--fill-color);\n",
              "      border-top-color: var(--fill-color);\n",
              "    }\n",
              "    30% {\n",
              "      border-color: transparent;\n",
              "      border-left-color: var(--fill-color);\n",
              "      border-top-color: var(--fill-color);\n",
              "      border-right-color: var(--fill-color);\n",
              "    }\n",
              "    40% {\n",
              "      border-color: transparent;\n",
              "      border-right-color: var(--fill-color);\n",
              "      border-top-color: var(--fill-color);\n",
              "    }\n",
              "    60% {\n",
              "      border-color: transparent;\n",
              "      border-right-color: var(--fill-color);\n",
              "    }\n",
              "    80% {\n",
              "      border-color: transparent;\n",
              "      border-right-color: var(--fill-color);\n",
              "      border-bottom-color: var(--fill-color);\n",
              "    }\n",
              "    90% {\n",
              "      border-color: transparent;\n",
              "      border-bottom-color: var(--fill-color);\n",
              "    }\n",
              "  }\n",
              "</style>\n",
              "\n",
              "  <script>\n",
              "    async function quickchart(key) {\n",
              "      const quickchartButtonEl =\n",
              "        document.querySelector('#' + key + ' button');\n",
              "      quickchartButtonEl.disabled = true;  // To prevent multiple clicks.\n",
              "      quickchartButtonEl.classList.add('colab-df-spinner');\n",
              "      try {\n",
              "        const charts = await google.colab.kernel.invokeFunction(\n",
              "            'suggestCharts', [key], {});\n",
              "      } catch (error) {\n",
              "        console.error('Error during call to suggestCharts:', error);\n",
              "      }\n",
              "      quickchartButtonEl.classList.remove('colab-df-spinner');\n",
              "      quickchartButtonEl.classList.add('colab-df-quickchart-complete');\n",
              "    }\n",
              "    (() => {\n",
              "      let quickchartButtonEl =\n",
              "        document.querySelector('#df-befafd35-53d8-4e04-be37-f7736dd57ee8 button');\n",
              "      quickchartButtonEl.style.display =\n",
              "        google.colab.kernel.accessAllowed ? 'block' : 'none';\n",
              "    })();\n",
              "  </script>\n",
              "</div>\n",
              "\n",
              "    </div>\n",
              "  </div>\n"
            ],
            "application/vnd.google.colaboratory.intrinsic+json": {
              "type": "dataframe",
              "variable_name": "credit_df",
              "summary": "{\n  \"name\": \"credit_df\",\n  \"rows\": 100000,\n  \"fields\": [\n    {\n      \"column\": \"Loan ID\",\n      \"properties\": {\n        \"dtype\": \"string\",\n        \"num_unique_values\": 81999,\n        \"samples\": [\n          \"01416a7d-41b4-4e79-885c-665fc3c59494\",\n          \"17a99d4b-cb7a-4c32-82c3-adf734040a25\",\n          \"644ee287-6cce-40af-a529-79862a8d7570\"\n        ],\n        \"semantic_type\": \"\",\n        \"description\": \"\"\n      }\n    },\n    {\n      \"column\": \"Customer ID\",\n      \"properties\": {\n        \"dtype\": \"string\",\n        \"num_unique_values\": 81999,\n        \"samples\": [\n          \"a8350405-65de-43b8-b205-f662608511d8\",\n          \"de936754-b1da-4f93-a889-e9e4b36e981e\",\n          \"a4f16bed-e502-4f5b-a24c-e05d65e8453e\"\n        ],\n        \"semantic_type\": \"\",\n        \"description\": \"\"\n      }\n    },\n    {\n      \"column\": \"Loan Status\",\n      \"properties\": {\n        \"dtype\": \"category\",\n        \"num_unique_values\": 2,\n        \"samples\": [\n          \"Charged Off\",\n          \"Fully Paid\"\n        ],\n        \"semantic_type\": \"\",\n        \"description\": \"\"\n      }\n    },\n    {\n      \"column\": \"Current Loan Amount\",\n      \"properties\": {\n        \"dtype\": \"number\",\n        \"std\": 31783942,\n        \"min\": 10802,\n        \"max\": 99999999,\n        \"num_unique_values\": 22004,\n        \"samples\": [\n          400664,\n          521686\n        ],\n        \"semantic_type\": \"\",\n        \"description\": \"\"\n      }\n    },\n    {\n      \"column\": \"Term\",\n      \"properties\": {\n        \"dtype\": \"category\",\n        \"num_unique_values\": 2,\n        \"samples\": [\n          \"Long Term\",\n          \"Short Term\"\n        ],\n        \"semantic_type\": \"\",\n        \"description\": \"\"\n      }\n    },\n    {\n      \"column\": \"Credit Score\",\n      \"properties\": {\n        \"dtype\": \"number\",\n        \"std\": 1475.4037914990543,\n        \"min\": 585.0,\n        \"max\": 7510.0,\n        \"num_unique_values\": 324,\n        \"samples\": [\n          7090.0,\n          614.0\n        ],\n        \"semantic_type\": \"\",\n        \"description\": \"\"\n      }\n    },\n    {\n      \"column\": \"Annual Income\",\n      \"properties\": {\n        \"dtype\": \"number\",\n        \"std\": 1081360.1956623045,\n        \"min\": 76627.0,\n        \"max\": 165557393.0,\n        \"num_unique_values\": 36174,\n        \"samples\": [\n          1101715.0,\n          3870300.0\n        ],\n        \"semantic_type\": \"\",\n        \"description\": \"\"\n      }\n    },\n    {\n      \"column\": \"Years in current job\",\n      \"properties\": {\n        \"dtype\": \"category\",\n        \"num_unique_values\": 11,\n        \"samples\": [\n          \"2 years\",\n          \"8 years\"\n        ],\n        \"semantic_type\": \"\",\n        \"description\": \"\"\n      }\n    },\n    {\n      \"column\": \"Home Ownership\",\n      \"properties\": {\n        \"dtype\": \"category\",\n        \"num_unique_values\": 4,\n        \"samples\": [\n          \"Own Home\",\n          \"HaveMortgage\"\n        ],\n        \"semantic_type\": \"\",\n        \"description\": \"\"\n      }\n    },\n    {\n      \"column\": \"Purpose\",\n      \"properties\": {\n        \"dtype\": \"category\",\n        \"num_unique_values\": 16,\n        \"samples\": [\n          \"Home Improvements\",\n          \"Debt Consolidation\"\n        ],\n        \"semantic_type\": \"\",\n        \"description\": \"\"\n      }\n    },\n    {\n      \"column\": \"Monthly Debt\",\n      \"properties\": {\n        \"dtype\": \"number\",\n        \"std\": 12174.99260948019,\n        \"min\": 0.0,\n        \"max\": 435843.28,\n        \"num_unique_values\": 65765,\n        \"samples\": [\n          32263.9,\n          12889.22\n        ],\n        \"semantic_type\": \"\",\n        \"description\": \"\"\n      }\n    },\n    {\n      \"column\": \"Years of Credit History\",\n      \"properties\": {\n        \"dtype\": \"number\",\n        \"std\": 7.015323649681324,\n        \"min\": 3.6,\n        \"max\": 70.5,\n        \"num_unique_values\": 506,\n        \"samples\": [\n          20.2,\n          6.2\n        ],\n        \"semantic_type\": \"\",\n        \"description\": \"\"\n      }\n    },\n    {\n      \"column\": \"Months since last delinquent\",\n      \"properties\": {\n        \"dtype\": \"number\",\n        \"std\": 21.99782878218802,\n        \"min\": 0.0,\n        \"max\": 176.0,\n        \"num_unique_values\": 116,\n        \"samples\": [\n          67.0,\n          76.0\n        ],\n        \"semantic_type\": \"\",\n        \"description\": \"\"\n      }\n    },\n    {\n      \"column\": \"Number of Open Accounts\",\n      \"properties\": {\n        \"dtype\": \"number\",\n        \"std\": 5,\n        \"min\": 0,\n        \"max\": 76,\n        \"num_unique_values\": 51,\n        \"samples\": [\n          48,\n          40\n        ],\n        \"semantic_type\": \"\",\n        \"description\": \"\"\n      }\n    },\n    {\n      \"column\": \"Number of Credit Problems\",\n      \"properties\": {\n        \"dtype\": \"number\",\n        \"std\": 0,\n        \"min\": 0,\n        \"max\": 15,\n        \"num_unique_values\": 14,\n        \"samples\": [\n          15,\n          8\n        ],\n        \"semantic_type\": \"\",\n        \"description\": \"\"\n      }\n    },\n    {\n      \"column\": \"Current Credit Balance\",\n      \"properties\": {\n        \"dtype\": \"number\",\n        \"std\": 376170,\n        \"min\": 0,\n        \"max\": 32878968,\n        \"num_unique_values\": 32730,\n        \"samples\": [\n          212230,\n          327959\n        ],\n        \"semantic_type\": \"\",\n        \"description\": \"\"\n      }\n    },\n    {\n      \"column\": \"Maximum Open Credit\",\n      \"properties\": {\n        \"dtype\": \"number\",\n        \"std\": 8384503.472368261,\n        \"min\": 0.0,\n        \"max\": 1539737892.0,\n        \"num_unique_values\": 44596,\n        \"samples\": [\n          839080.0,\n          1190046.0\n        ],\n        \"semantic_type\": \"\",\n        \"description\": \"\"\n      }\n    },\n    {\n      \"column\": \"Bankruptcies\",\n      \"properties\": {\n        \"dtype\": \"number\",\n        \"std\": 0.35142381821880475,\n        \"min\": 0.0,\n        \"max\": 7.0,\n        \"num_unique_values\": 8,\n        \"samples\": [\n          0.0,\n          4.0\n        ],\n        \"semantic_type\": \"\",\n        \"description\": \"\"\n      }\n    },\n    {\n      \"column\": \"Tax Liens\",\n      \"properties\": {\n        \"dtype\": \"number\",\n        \"std\": 0.25818243623945536,\n        \"min\": 0.0,\n        \"max\": 15.0,\n        \"num_unique_values\": 12,\n        \"samples\": [\n          7.0,\n          9.0\n        ],\n        \"semantic_type\": \"\",\n        \"description\": \"\"\n      }\n    }\n  ]\n}"
            }
          },
          "metadata": {},
          "execution_count": 2
        }
      ]
    },
    {
      "cell_type": "markdown",
      "source": [
        "#### Step 2. is there any Missing Values?"
      ],
      "metadata": {
        "id": "1sn5fFoARSr8"
      }
    },
    {
      "cell_type": "code",
      "source": [
        "credit_df.isnull().sum()"
      ],
      "metadata": {
        "colab": {
          "base_uri": "https://localhost:8080/"
        },
        "id": "t4OhtJB_QzCz",
        "outputId": "7d6d70c4-2397-4d72-9035-eca1089f3a3e"
      },
      "execution_count": null,
      "outputs": [
        {
          "output_type": "execute_result",
          "data": {
            "text/plain": [
              "Loan ID                             0\n",
              "Customer ID                         0\n",
              "Loan Status                         0\n",
              "Current Loan Amount                 0\n",
              "Term                                0\n",
              "Credit Score                    19154\n",
              "Annual Income                   19154\n",
              "Years in current job             4222\n",
              "Home Ownership                      0\n",
              "Purpose                             0\n",
              "Monthly Debt                        0\n",
              "Years of Credit History             0\n",
              "Months since last delinquent    53141\n",
              "Number of Open Accounts             0\n",
              "Number of Credit Problems           0\n",
              "Current Credit Balance              0\n",
              "Maximum Open Credit                 2\n",
              "Bankruptcies                      204\n",
              "Tax Liens                          10\n",
              "dtype: int64"
            ]
          },
          "metadata": {},
          "execution_count": 3
        }
      ]
    },
    {
      "cell_type": "code",
      "source": [
        "credit_df.isnull().sum() / credit_df.shape[0] * 100"
      ],
      "metadata": {
        "colab": {
          "base_uri": "https://localhost:8080/"
        },
        "id": "D7DI1w0WRe5N",
        "outputId": "a1a004fd-c72e-43f6-97dc-68ac3cb3321c"
      },
      "execution_count": null,
      "outputs": [
        {
          "output_type": "execute_result",
          "data": {
            "text/plain": [
              "Loan ID                          0.000\n",
              "Customer ID                      0.000\n",
              "Loan Status                      0.000\n",
              "Current Loan Amount              0.000\n",
              "Term                             0.000\n",
              "Credit Score                    19.154\n",
              "Annual Income                   19.154\n",
              "Years in current job             4.222\n",
              "Home Ownership                   0.000\n",
              "Purpose                          0.000\n",
              "Monthly Debt                     0.000\n",
              "Years of Credit History          0.000\n",
              "Months since last delinquent    53.141\n",
              "Number of Open Accounts          0.000\n",
              "Number of Credit Problems        0.000\n",
              "Current Credit Balance           0.000\n",
              "Maximum Open Credit              0.002\n",
              "Bankruptcies                     0.204\n",
              "Tax Liens                        0.010\n",
              "dtype: float64"
            ]
          },
          "metadata": {},
          "execution_count": 4
        }
      ]
    },
    {
      "cell_type": "code",
      "source": [
        "credit_df.shape"
      ],
      "metadata": {
        "colab": {
          "base_uri": "https://localhost:8080/"
        },
        "id": "STJgvsxqRmCW",
        "outputId": "f4a85817-b040-41dd-c7f0-7f08e201c2ec"
      },
      "execution_count": null,
      "outputs": [
        {
          "output_type": "execute_result",
          "data": {
            "text/plain": [
              "(100000, 19)"
            ]
          },
          "metadata": {},
          "execution_count": 5
        }
      ]
    },
    {
      "cell_type": "code",
      "source": [
        "credit_df['Months since last delinquent'].replace(np.nan, 0, inplace = True)"
      ],
      "metadata": {
        "id": "KHZ7AgseR2gK"
      },
      "execution_count": null,
      "outputs": []
    },
    {
      "cell_type": "code",
      "source": [
        "credit_df['Credit Score'].unique()"
      ],
      "metadata": {
        "colab": {
          "base_uri": "https://localhost:8080/"
        },
        "collapsed": true,
        "id": "_5zm5stFSBoC",
        "outputId": "0a521799-4acf-46f2-89f9-7c53bf0a1e01"
      },
      "execution_count": null,
      "outputs": [
        {
          "output_type": "execute_result",
          "data": {
            "text/plain": [
              "array([ 709.,   nan,  741.,  721., 7290.,  730.,  678.,  739.,  728.,\n",
              "        740.,  743.,  727.,  723.,  747.,  687.,  750.,  714.,  724.,\n",
              "        704.,  688.,  749.,  746.,  737.,  729.,  733.,  725.,  745.,\n",
              "        720.,  718.,  682., 7120.,  680.,  710.,  598.,  719., 6610.,\n",
              "        652.,  736., 7380.,  644.,  672., 7370.,  699.,  751.,  694.,\n",
              "        675.,  657.,  748.,  666.,  734.,  742.,  705.,  731., 6240.,\n",
              "        712.,  685.,  717.,  722.,  618.,  676.,  692., 7210.,  732.,\n",
              "        649.,  695.,  744.,  686.,  637.,  697.,  706.,  715.,  707.,\n",
              "        726.,  738., 7500.,  716., 7020.,  651.,  708.,  698.,  689.,\n",
              "        735.,  703.,  693., 7080.,  645.,  691.,  673.,  700., 7140.,\n",
              "        658.,  674.,  654., 7490.,  681.,  696.,  713.,  668., 7360.,\n",
              "        659., 7160.,  647.,  683.,  670.,  623.,  711.,  639.,  671.,\n",
              "       6990.,  614.,  667.,  701., 7410., 7310., 7040., 7060.,  615.,\n",
              "       7200.,  656.,  653.,  664.,  613., 7450., 7300.,  636.,  702.,\n",
              "       7430.,  594., 7170.,  646., 7000.,  669., 7280., 7090., 6970.,\n",
              "       7460., 6920.,  612., 7350., 7190.,  690., 6690., 6750.,  641.,\n",
              "        665.,  677.,  684.,  655., 7010., 6530.,  630., 7270.,  663.,\n",
              "        638.,  596., 7420.,  660., 6810.,  679., 7070., 7390., 7470.,\n",
              "        609.,  603., 6670., 6710., 6580., 6940., 6800., 7110.,  661.,\n",
              "       7130.,  643.,  633., 5860., 6960.,  629.,  648., 7150., 6400.,\n",
              "       6830., 6360., 6650.,  625., 6740.,  635., 7260., 7480., 6980.,\n",
              "        662.,  640., 7250., 7320.,  627., 7180., 6640., 6780.,  611.,\n",
              "       6090.,  604.,  642., 7240.,  621., 6550., 6900., 6590., 6840.,\n",
              "       6660., 7400.,  632., 6760., 7340., 6860., 6870., 6680.,  602.,\n",
              "       7220.,  616.,  600., 6460., 6500.,  597., 6880., 6540.,  622.,\n",
              "       6100., 7330.,  619.,  624., 7510., 6930., 6430., 6160.,  628.,\n",
              "        599., 7030., 6630., 7230.,  606., 6890., 6820., 6850., 7100.,\n",
              "       6210., 6150., 7440., 6080.,  650., 6200., 6570.,  626., 6110.,\n",
              "       6560., 6730., 6410.,  605., 6310., 5960.,  589., 6350.,  607.,\n",
              "       6470., 6520., 6700.,  608.,  631., 6950., 6720., 6290., 6770.,\n",
              "        620., 6480., 6380., 7050., 6390.,  590.,  634., 6910., 6620.,\n",
              "       6370., 6600., 6250.,  587.,  588.,  591.,  617.,  610., 6450.,\n",
              "       6010.,  595.,  601.,  586., 6490., 6510., 5850.,  585., 6300.,\n",
              "       6790., 6330., 6130., 6220., 6440., 6340., 6270., 6260., 6170.,\n",
              "       5940., 5950., 6420., 6180.,  592., 5900., 6320., 6230., 6120.,\n",
              "       6280.,  593., 5920., 6140., 6070., 6190., 5930., 6060., 5890.,\n",
              "       6050.])"
            ]
          },
          "metadata": {},
          "execution_count": 7
        }
      ]
    },
    {
      "cell_type": "code",
      "source": [
        "credit_df[credit_df['Credit Score'] > 900]['Credit Score'] / 10"
      ],
      "metadata": {
        "colab": {
          "base_uri": "https://localhost:8080/"
        },
        "collapsed": true,
        "id": "XeWrrOvHSqYw",
        "outputId": "29a7dc3e-7d9a-4e8d-fe31-c980d7421567"
      },
      "execution_count": null,
      "outputs": [
        {
          "output_type": "execute_result",
          "data": {
            "text/plain": [
              "5        729.0\n",
              "43       712.0\n",
              "51       661.0\n",
              "56       738.0\n",
              "65       737.0\n",
              "         ...  \n",
              "99851    742.0\n",
              "99872    707.0\n",
              "99906    688.0\n",
              "99944    679.0\n",
              "99947    694.0\n",
              "Name: Credit Score, Length: 4551, dtype: float64"
            ]
          },
          "metadata": {},
          "execution_count": 8
        }
      ]
    },
    {
      "cell_type": "code",
      "source": [
        "highscore_index = credit_df[credit_df['Credit Score'] > 900].index"
      ],
      "metadata": {
        "id": "YqtuD_nKS3as"
      },
      "execution_count": null,
      "outputs": []
    },
    {
      "cell_type": "code",
      "source": [
        "credit_df.loc[highscore_index, 'Credit Score'] = credit_df[credit_df['Credit Score'] > 900]['Credit Score'] / 10"
      ],
      "metadata": {
        "id": "XrqwAGEZTo4g"
      },
      "execution_count": null,
      "outputs": []
    },
    {
      "cell_type": "code",
      "source": [
        "credit_df['Credit Score'].unique()"
      ],
      "metadata": {
        "colab": {
          "base_uri": "https://localhost:8080/"
        },
        "id": "7qMgQ_WFUCV-",
        "outputId": "4162f801-ec94-4c2e-f1b4-122feb795e84"
      },
      "execution_count": null,
      "outputs": [
        {
          "output_type": "execute_result",
          "data": {
            "text/plain": [
              "array([709.,  nan, 741., 721., 729., 730., 678., 739., 728., 740., 743.,\n",
              "       727., 723., 747., 687., 750., 714., 724., 704., 688., 749., 746.,\n",
              "       737., 733., 725., 745., 720., 718., 682., 712., 680., 710., 598.,\n",
              "       719., 661., 652., 736., 738., 644., 672., 699., 751., 694., 675.,\n",
              "       657., 748., 666., 734., 742., 705., 731., 624., 685., 717., 722.,\n",
              "       618., 676., 692., 732., 649., 695., 744., 686., 637., 697., 706.,\n",
              "       715., 707., 726., 716., 702., 651., 708., 698., 689., 735., 703.,\n",
              "       693., 645., 691., 673., 700., 658., 674., 654., 681., 696., 713.,\n",
              "       668., 659., 647., 683., 670., 623., 711., 639., 671., 614., 667.,\n",
              "       701., 615., 656., 653., 664., 613., 636., 594., 646., 669., 612.,\n",
              "       690., 641., 665., 677., 684., 655., 630., 663., 638., 596., 660.,\n",
              "       679., 609., 603., 643., 633., 586., 629., 648., 640., 625., 635.,\n",
              "       662., 627., 611., 604., 642., 621., 632., 602., 616., 600., 650.,\n",
              "       597., 622., 610., 619., 628., 599., 606., 608., 620., 626., 605.,\n",
              "       631., 589., 607., 590., 634., 587., 588., 591., 617., 601., 595.,\n",
              "       585., 592., 593.])"
            ]
          },
          "metadata": {},
          "execution_count": 11
        }
      ]
    },
    {
      "cell_type": "code",
      "source": [
        "np.round(credit_df['Credit Score'].mean())"
      ],
      "metadata": {
        "colab": {
          "base_uri": "https://localhost:8080/"
        },
        "id": "cPUqeMD-UKWz",
        "outputId": "fbb9a6de-4a80-429e-d4f6-c711972607b1"
      },
      "execution_count": null,
      "outputs": [
        {
          "output_type": "execute_result",
          "data": {
            "text/plain": [
              "716.0"
            ]
          },
          "metadata": {},
          "execution_count": 12
        }
      ]
    },
    {
      "cell_type": "code",
      "source": [
        "# replace missing value by mean value\n",
        "credit_df['Credit Score'].fillna(np.round(credit_df['Credit Score'].mean()), inplace = True)"
      ],
      "metadata": {
        "id": "lk7nIqA4VdSR"
      },
      "execution_count": null,
      "outputs": []
    },
    {
      "cell_type": "code",
      "source": [
        "# replace missing value by mean value\n",
        "credit_df['Annual Income'].fillna(np.round(credit_df['Annual Income'].mean()), inplace = True)"
      ],
      "metadata": {
        "id": "4RA_qO0AVoQN"
      },
      "execution_count": null,
      "outputs": []
    },
    {
      "cell_type": "code",
      "source": [
        "# Drop missing value\n",
        "credit_df.dropna(inplace = True)"
      ],
      "metadata": {
        "id": "Q2Ysxi66V2no"
      },
      "execution_count": null,
      "outputs": []
    },
    {
      "cell_type": "markdown",
      "source": [
        "#### Step 3: Data Pre-Processing"
      ],
      "metadata": {
        "id": "FMItwdnUX-le"
      }
    },
    {
      "cell_type": "code",
      "source": [
        "credit_df.dtypes"
      ],
      "metadata": {
        "colab": {
          "base_uri": "https://localhost:8080/"
        },
        "id": "NOsJYrEaV6Gh",
        "outputId": "a94363be-563b-46b2-fa56-1b6b1863adb2"
      },
      "execution_count": null,
      "outputs": [
        {
          "output_type": "execute_result",
          "data": {
            "text/plain": [
              "Loan ID                          object\n",
              "Customer ID                      object\n",
              "Loan Status                      object\n",
              "Current Loan Amount               int64\n",
              "Term                             object\n",
              "Credit Score                    float64\n",
              "Annual Income                   float64\n",
              "Years in current job             object\n",
              "Home Ownership                   object\n",
              "Purpose                          object\n",
              "Monthly Debt                    float64\n",
              "Years of Credit History         float64\n",
              "Months since last delinquent    float64\n",
              "Number of Open Accounts           int64\n",
              "Number of Credit Problems         int64\n",
              "Current Credit Balance            int64\n",
              "Maximum Open Credit             float64\n",
              "Bankruptcies                    float64\n",
              "Tax Liens                       float64\n",
              "dtype: object"
            ]
          },
          "metadata": {},
          "execution_count": 16
        }
      ]
    },
    {
      "cell_type": "code",
      "source": [
        "credit_df['Years in current job'].unique()"
      ],
      "metadata": {
        "colab": {
          "base_uri": "https://localhost:8080/"
        },
        "id": "uX2VsNoUWGzj",
        "outputId": "574fd9aa-d147-42b9-acf4-6c107913a13e"
      },
      "execution_count": null,
      "outputs": [
        {
          "output_type": "execute_result",
          "data": {
            "text/plain": [
              "array(['8 years', '10+ years', '3 years', '5 years', '< 1 year',\n",
              "       '2 years', '4 years', '9 years', '7 years', '1 year', '6 years'],\n",
              "      dtype=object)"
            ]
          },
          "metadata": {},
          "execution_count": 17
        }
      ]
    },
    {
      "cell_type": "code",
      "source": [
        "credit_df['Years in current job'] = credit_df['Years in current job'].str.replace(' years','')"
      ],
      "metadata": {
        "id": "my5VSwcPWYaB"
      },
      "execution_count": null,
      "outputs": []
    },
    {
      "cell_type": "code",
      "source": [
        "credit_df['Years in current job'].replace('10+', 10, inplace=True)\n",
        "credit_df['Years in current job'].replace('< 1 year', 0.5, inplace=True)\n",
        "credit_df['Years in current job'].replace('1 year', 1, inplace=True)"
      ],
      "metadata": {
        "id": "7vJFaMGoW3D_"
      },
      "execution_count": null,
      "outputs": []
    },
    {
      "cell_type": "code",
      "source": [
        "credit_df['Years in current job'] = credit_df['Years in current job'].astype('int')"
      ],
      "metadata": {
        "id": "QBIWfRfFXZHd"
      },
      "execution_count": null,
      "outputs": []
    },
    {
      "cell_type": "markdown",
      "source": [
        "### Step 4. Label Encoder\n",
        "    * Convert Categorical into Numerical Columns"
      ],
      "metadata": {
        "id": "EJNR5QzvX7_a"
      }
    },
    {
      "cell_type": "code",
      "source": [
        "from sklearn.preprocessing import LabelEncoder\n",
        "le_encoder = LabelEncoder()\n",
        "credit_df['Loan Status'] = le_encoder.fit_transform(credit_df['Loan Status'])"
      ],
      "metadata": {
        "id": "z-6_uXhxXbVc"
      },
      "execution_count": null,
      "outputs": []
    },
    {
      "cell_type": "code",
      "source": [
        "le_encoder = LabelEncoder()\n",
        "credit_df['Home Ownership'] = le_encoder.fit_transform(credit_df['Home Ownership'])"
      ],
      "metadata": {
        "id": "KBHH4Lg1YrSS"
      },
      "execution_count": null,
      "outputs": []
    },
    {
      "cell_type": "code",
      "source": [
        "le_encoder = LabelEncoder()\n",
        "credit_df['Term'] = le_encoder.fit_transform(credit_df['Term'])"
      ],
      "metadata": {
        "id": "VmBmHyj1Y7uU"
      },
      "execution_count": null,
      "outputs": []
    },
    {
      "cell_type": "code",
      "source": [
        "le_encoder = LabelEncoder()\n",
        "credit_df['Purpose'] = le_encoder.fit_transform(credit_df['Purpose'])"
      ],
      "metadata": {
        "id": "erszSz8GZEaG"
      },
      "execution_count": null,
      "outputs": []
    },
    {
      "cell_type": "code",
      "source": [
        "credit_df.drop(['Loan ID', 'Customer ID'], axis = 1, inplace = True)"
      ],
      "metadata": {
        "id": "EHLCd-19ZKSA"
      },
      "execution_count": null,
      "outputs": []
    },
    {
      "cell_type": "code",
      "source": [
        "credit_df['Bankruptcies'].value_counts()"
      ],
      "metadata": {
        "colab": {
          "base_uri": "https://localhost:8080/"
        },
        "id": "dnx6bqYga_Ng",
        "outputId": "178e4fae-b2da-4c44-bca9-42a1573fa79a"
      },
      "execution_count": null,
      "outputs": [
        {
          "output_type": "execute_result",
          "data": {
            "text/plain": [
              "Bankruptcies\n",
              "0.0    85430\n",
              "1.0     9641\n",
              "2.0      384\n",
              "3.0       87\n",
              "4.0       20\n",
              "5.0        7\n",
              "6.0        2\n",
              "7.0        1\n",
              "Name: count, dtype: int64"
            ]
          },
          "metadata": {},
          "execution_count": 29
        }
      ]
    },
    {
      "cell_type": "code",
      "source": [
        "credit_df[credit_df['Bankruptcies'] > 1.0]"
      ],
      "metadata": {
        "colab": {
          "base_uri": "https://localhost:8080/",
          "height": 458
        },
        "collapsed": true,
        "id": "3KZXKovgbL1r",
        "outputId": "c59557a8-72b2-4807-dd0d-d2729ebda446"
      },
      "execution_count": null,
      "outputs": [
        {
          "output_type": "execute_result",
          "data": {
            "text/plain": [
              "       Loan Status  Current Loan Amount  Term  Credit Score  Annual Income  \\\n",
              "180              1               234806     0         689.0       866799.0   \n",
              "369              1                33154     1         713.0       572793.0   \n",
              "777              1               172436     1         740.0      1340222.0   \n",
              "948              0               298760     1         716.0      1378277.0   \n",
              "967              1             99999999     0         689.0       866799.0   \n",
              "...            ...                  ...   ...           ...            ...   \n",
              "99241            1               322454     0         720.0      1578026.0   \n",
              "99493            1               110506     1         716.0      1378277.0   \n",
              "99629            1             99999999     1         725.0      1133616.0   \n",
              "99894            0               403898     0         689.0       874532.0   \n",
              "99954            0               316426     0         659.0      1613062.0   \n",
              "\n",
              "       Years in current job  Home Ownership  Purpose  Monthly Debt  \\\n",
              "180                       9               1        3       3676.69   \n",
              "369                      10               3       14      13412.86   \n",
              "777                       7               2        3      14965.92   \n",
              "948                      10               3        3      11952.14   \n",
              "967                       9               1        3       3676.69   \n",
              "...                     ...             ...      ...           ...   \n",
              "99241                     1               3        3      14333.60   \n",
              "99493                     3               1        3      14315.55   \n",
              "99629                    10               1        3      21633.21   \n",
              "99894                     3               2        3      20697.27   \n",
              "99954                     1               3        3      15189.74   \n",
              "\n",
              "       Years of Credit History  Months since last delinquent  \\\n",
              "180                       14.1                           7.0   \n",
              "369                       11.8                           0.0   \n",
              "777                       19.8                           0.0   \n",
              "948                       17.3                          63.0   \n",
              "967                       14.1                           7.0   \n",
              "...                        ...                           ...   \n",
              "99241                     15.1                           0.0   \n",
              "99493                     17.9                          57.0   \n",
              "99629                     14.9                          23.0   \n",
              "99894                     12.7                          74.0   \n",
              "99954                     21.5                           0.0   \n",
              "\n",
              "       Number of Open Accounts  Number of Credit Problems  \\\n",
              "180                          4                          2   \n",
              "369                         10                          2   \n",
              "777                          6                          7   \n",
              "948                          9                          6   \n",
              "967                          4                          2   \n",
              "...                        ...                        ...   \n",
              "99241                        9                          2   \n",
              "99493                        7                          2   \n",
              "99629                       16                          4   \n",
              "99894                        9                          2   \n",
              "99954                       25                          2   \n",
              "\n",
              "       Current Credit Balance  Maximum Open Credit  Bankruptcies  Tax Liens  \n",
              "180                     86051             167750.0           2.0        0.0  \n",
              "369                     49153             178948.0           2.0        0.0  \n",
              "777                    178410             398816.0           3.0        4.0  \n",
              "948                    191786             329494.0           5.0        0.0  \n",
              "967                     86051             167750.0           2.0        0.0  \n",
              "...                       ...                  ...           ...        ...  \n",
              "99241                  287299             729498.0           2.0        0.0  \n",
              "99493                   69160             161436.0           2.0        0.0  \n",
              "99629                   96767             213004.0           2.0        2.0  \n",
              "99894                  156978             288090.0           2.0        0.0  \n",
              "99954                  242573             456698.0           2.0        0.0  \n",
              "\n",
              "[501 rows x 17 columns]"
            ],
            "text/html": [
              "\n",
              "  <div id=\"df-bf3a6793-1e95-4e4a-97d1-48a07e08c07e\" class=\"colab-df-container\">\n",
              "    <div>\n",
              "<style scoped>\n",
              "    .dataframe tbody tr th:only-of-type {\n",
              "        vertical-align: middle;\n",
              "    }\n",
              "\n",
              "    .dataframe tbody tr th {\n",
              "        vertical-align: top;\n",
              "    }\n",
              "\n",
              "    .dataframe thead th {\n",
              "        text-align: right;\n",
              "    }\n",
              "</style>\n",
              "<table border=\"1\" class=\"dataframe\">\n",
              "  <thead>\n",
              "    <tr style=\"text-align: right;\">\n",
              "      <th></th>\n",
              "      <th>Loan Status</th>\n",
              "      <th>Current Loan Amount</th>\n",
              "      <th>Term</th>\n",
              "      <th>Credit Score</th>\n",
              "      <th>Annual Income</th>\n",
              "      <th>Years in current job</th>\n",
              "      <th>Home Ownership</th>\n",
              "      <th>Purpose</th>\n",
              "      <th>Monthly Debt</th>\n",
              "      <th>Years of Credit History</th>\n",
              "      <th>Months since last delinquent</th>\n",
              "      <th>Number of Open Accounts</th>\n",
              "      <th>Number of Credit Problems</th>\n",
              "      <th>Current Credit Balance</th>\n",
              "      <th>Maximum Open Credit</th>\n",
              "      <th>Bankruptcies</th>\n",
              "      <th>Tax Liens</th>\n",
              "    </tr>\n",
              "  </thead>\n",
              "  <tbody>\n",
              "    <tr>\n",
              "      <th>180</th>\n",
              "      <td>1</td>\n",
              "      <td>234806</td>\n",
              "      <td>0</td>\n",
              "      <td>689.0</td>\n",
              "      <td>866799.0</td>\n",
              "      <td>9</td>\n",
              "      <td>1</td>\n",
              "      <td>3</td>\n",
              "      <td>3676.69</td>\n",
              "      <td>14.1</td>\n",
              "      <td>7.0</td>\n",
              "      <td>4</td>\n",
              "      <td>2</td>\n",
              "      <td>86051</td>\n",
              "      <td>167750.0</td>\n",
              "      <td>2.0</td>\n",
              "      <td>0.0</td>\n",
              "    </tr>\n",
              "    <tr>\n",
              "      <th>369</th>\n",
              "      <td>1</td>\n",
              "      <td>33154</td>\n",
              "      <td>1</td>\n",
              "      <td>713.0</td>\n",
              "      <td>572793.0</td>\n",
              "      <td>10</td>\n",
              "      <td>3</td>\n",
              "      <td>14</td>\n",
              "      <td>13412.86</td>\n",
              "      <td>11.8</td>\n",
              "      <td>0.0</td>\n",
              "      <td>10</td>\n",
              "      <td>2</td>\n",
              "      <td>49153</td>\n",
              "      <td>178948.0</td>\n",
              "      <td>2.0</td>\n",
              "      <td>0.0</td>\n",
              "    </tr>\n",
              "    <tr>\n",
              "      <th>777</th>\n",
              "      <td>1</td>\n",
              "      <td>172436</td>\n",
              "      <td>1</td>\n",
              "      <td>740.0</td>\n",
              "      <td>1340222.0</td>\n",
              "      <td>7</td>\n",
              "      <td>2</td>\n",
              "      <td>3</td>\n",
              "      <td>14965.92</td>\n",
              "      <td>19.8</td>\n",
              "      <td>0.0</td>\n",
              "      <td>6</td>\n",
              "      <td>7</td>\n",
              "      <td>178410</td>\n",
              "      <td>398816.0</td>\n",
              "      <td>3.0</td>\n",
              "      <td>4.0</td>\n",
              "    </tr>\n",
              "    <tr>\n",
              "      <th>948</th>\n",
              "      <td>0</td>\n",
              "      <td>298760</td>\n",
              "      <td>1</td>\n",
              "      <td>716.0</td>\n",
              "      <td>1378277.0</td>\n",
              "      <td>10</td>\n",
              "      <td>3</td>\n",
              "      <td>3</td>\n",
              "      <td>11952.14</td>\n",
              "      <td>17.3</td>\n",
              "      <td>63.0</td>\n",
              "      <td>9</td>\n",
              "      <td>6</td>\n",
              "      <td>191786</td>\n",
              "      <td>329494.0</td>\n",
              "      <td>5.0</td>\n",
              "      <td>0.0</td>\n",
              "    </tr>\n",
              "    <tr>\n",
              "      <th>967</th>\n",
              "      <td>1</td>\n",
              "      <td>99999999</td>\n",
              "      <td>0</td>\n",
              "      <td>689.0</td>\n",
              "      <td>866799.0</td>\n",
              "      <td>9</td>\n",
              "      <td>1</td>\n",
              "      <td>3</td>\n",
              "      <td>3676.69</td>\n",
              "      <td>14.1</td>\n",
              "      <td>7.0</td>\n",
              "      <td>4</td>\n",
              "      <td>2</td>\n",
              "      <td>86051</td>\n",
              "      <td>167750.0</td>\n",
              "      <td>2.0</td>\n",
              "      <td>0.0</td>\n",
              "    </tr>\n",
              "    <tr>\n",
              "      <th>...</th>\n",
              "      <td>...</td>\n",
              "      <td>...</td>\n",
              "      <td>...</td>\n",
              "      <td>...</td>\n",
              "      <td>...</td>\n",
              "      <td>...</td>\n",
              "      <td>...</td>\n",
              "      <td>...</td>\n",
              "      <td>...</td>\n",
              "      <td>...</td>\n",
              "      <td>...</td>\n",
              "      <td>...</td>\n",
              "      <td>...</td>\n",
              "      <td>...</td>\n",
              "      <td>...</td>\n",
              "      <td>...</td>\n",
              "      <td>...</td>\n",
              "    </tr>\n",
              "    <tr>\n",
              "      <th>99241</th>\n",
              "      <td>1</td>\n",
              "      <td>322454</td>\n",
              "      <td>0</td>\n",
              "      <td>720.0</td>\n",
              "      <td>1578026.0</td>\n",
              "      <td>1</td>\n",
              "      <td>3</td>\n",
              "      <td>3</td>\n",
              "      <td>14333.60</td>\n",
              "      <td>15.1</td>\n",
              "      <td>0.0</td>\n",
              "      <td>9</td>\n",
              "      <td>2</td>\n",
              "      <td>287299</td>\n",
              "      <td>729498.0</td>\n",
              "      <td>2.0</td>\n",
              "      <td>0.0</td>\n",
              "    </tr>\n",
              "    <tr>\n",
              "      <th>99493</th>\n",
              "      <td>1</td>\n",
              "      <td>110506</td>\n",
              "      <td>1</td>\n",
              "      <td>716.0</td>\n",
              "      <td>1378277.0</td>\n",
              "      <td>3</td>\n",
              "      <td>1</td>\n",
              "      <td>3</td>\n",
              "      <td>14315.55</td>\n",
              "      <td>17.9</td>\n",
              "      <td>57.0</td>\n",
              "      <td>7</td>\n",
              "      <td>2</td>\n",
              "      <td>69160</td>\n",
              "      <td>161436.0</td>\n",
              "      <td>2.0</td>\n",
              "      <td>0.0</td>\n",
              "    </tr>\n",
              "    <tr>\n",
              "      <th>99629</th>\n",
              "      <td>1</td>\n",
              "      <td>99999999</td>\n",
              "      <td>1</td>\n",
              "      <td>725.0</td>\n",
              "      <td>1133616.0</td>\n",
              "      <td>10</td>\n",
              "      <td>1</td>\n",
              "      <td>3</td>\n",
              "      <td>21633.21</td>\n",
              "      <td>14.9</td>\n",
              "      <td>23.0</td>\n",
              "      <td>16</td>\n",
              "      <td>4</td>\n",
              "      <td>96767</td>\n",
              "      <td>213004.0</td>\n",
              "      <td>2.0</td>\n",
              "      <td>2.0</td>\n",
              "    </tr>\n",
              "    <tr>\n",
              "      <th>99894</th>\n",
              "      <td>0</td>\n",
              "      <td>403898</td>\n",
              "      <td>0</td>\n",
              "      <td>689.0</td>\n",
              "      <td>874532.0</td>\n",
              "      <td>3</td>\n",
              "      <td>2</td>\n",
              "      <td>3</td>\n",
              "      <td>20697.27</td>\n",
              "      <td>12.7</td>\n",
              "      <td>74.0</td>\n",
              "      <td>9</td>\n",
              "      <td>2</td>\n",
              "      <td>156978</td>\n",
              "      <td>288090.0</td>\n",
              "      <td>2.0</td>\n",
              "      <td>0.0</td>\n",
              "    </tr>\n",
              "    <tr>\n",
              "      <th>99954</th>\n",
              "      <td>0</td>\n",
              "      <td>316426</td>\n",
              "      <td>0</td>\n",
              "      <td>659.0</td>\n",
              "      <td>1613062.0</td>\n",
              "      <td>1</td>\n",
              "      <td>3</td>\n",
              "      <td>3</td>\n",
              "      <td>15189.74</td>\n",
              "      <td>21.5</td>\n",
              "      <td>0.0</td>\n",
              "      <td>25</td>\n",
              "      <td>2</td>\n",
              "      <td>242573</td>\n",
              "      <td>456698.0</td>\n",
              "      <td>2.0</td>\n",
              "      <td>0.0</td>\n",
              "    </tr>\n",
              "  </tbody>\n",
              "</table>\n",
              "<p>501 rows × 17 columns</p>\n",
              "</div>\n",
              "    <div class=\"colab-df-buttons\">\n",
              "\n",
              "  <div class=\"colab-df-container\">\n",
              "    <button class=\"colab-df-convert\" onclick=\"convertToInteractive('df-bf3a6793-1e95-4e4a-97d1-48a07e08c07e')\"\n",
              "            title=\"Convert this dataframe to an interactive table.\"\n",
              "            style=\"display:none;\">\n",
              "\n",
              "  <svg xmlns=\"http://www.w3.org/2000/svg\" height=\"24px\" viewBox=\"0 -960 960 960\">\n",
              "    <path d=\"M120-120v-720h720v720H120Zm60-500h600v-160H180v160Zm220 220h160v-160H400v160Zm0 220h160v-160H400v160ZM180-400h160v-160H180v160Zm440 0h160v-160H620v160ZM180-180h160v-160H180v160Zm440 0h160v-160H620v160Z\"/>\n",
              "  </svg>\n",
              "    </button>\n",
              "\n",
              "  <style>\n",
              "    .colab-df-container {\n",
              "      display:flex;\n",
              "      gap: 12px;\n",
              "    }\n",
              "\n",
              "    .colab-df-convert {\n",
              "      background-color: #E8F0FE;\n",
              "      border: none;\n",
              "      border-radius: 50%;\n",
              "      cursor: pointer;\n",
              "      display: none;\n",
              "      fill: #1967D2;\n",
              "      height: 32px;\n",
              "      padding: 0 0 0 0;\n",
              "      width: 32px;\n",
              "    }\n",
              "\n",
              "    .colab-df-convert:hover {\n",
              "      background-color: #E2EBFA;\n",
              "      box-shadow: 0px 1px 2px rgba(60, 64, 67, 0.3), 0px 1px 3px 1px rgba(60, 64, 67, 0.15);\n",
              "      fill: #174EA6;\n",
              "    }\n",
              "\n",
              "    .colab-df-buttons div {\n",
              "      margin-bottom: 4px;\n",
              "    }\n",
              "\n",
              "    [theme=dark] .colab-df-convert {\n",
              "      background-color: #3B4455;\n",
              "      fill: #D2E3FC;\n",
              "    }\n",
              "\n",
              "    [theme=dark] .colab-df-convert:hover {\n",
              "      background-color: #434B5C;\n",
              "      box-shadow: 0px 1px 3px 1px rgba(0, 0, 0, 0.15);\n",
              "      filter: drop-shadow(0px 1px 2px rgba(0, 0, 0, 0.3));\n",
              "      fill: #FFFFFF;\n",
              "    }\n",
              "  </style>\n",
              "\n",
              "    <script>\n",
              "      const buttonEl =\n",
              "        document.querySelector('#df-bf3a6793-1e95-4e4a-97d1-48a07e08c07e button.colab-df-convert');\n",
              "      buttonEl.style.display =\n",
              "        google.colab.kernel.accessAllowed ? 'block' : 'none';\n",
              "\n",
              "      async function convertToInteractive(key) {\n",
              "        const element = document.querySelector('#df-bf3a6793-1e95-4e4a-97d1-48a07e08c07e');\n",
              "        const dataTable =\n",
              "          await google.colab.kernel.invokeFunction('convertToInteractive',\n",
              "                                                    [key], {});\n",
              "        if (!dataTable) return;\n",
              "\n",
              "        const docLinkHtml = 'Like what you see? Visit the ' +\n",
              "          '<a target=\"_blank\" href=https://colab.research.google.com/notebooks/data_table.ipynb>data table notebook</a>'\n",
              "          + ' to learn more about interactive tables.';\n",
              "        element.innerHTML = '';\n",
              "        dataTable['output_type'] = 'display_data';\n",
              "        await google.colab.output.renderOutput(dataTable, element);\n",
              "        const docLink = document.createElement('div');\n",
              "        docLink.innerHTML = docLinkHtml;\n",
              "        element.appendChild(docLink);\n",
              "      }\n",
              "    </script>\n",
              "  </div>\n",
              "\n",
              "\n",
              "<div id=\"df-d8a78699-80f1-46f4-ae40-2e8cd8c3fbd8\">\n",
              "  <button class=\"colab-df-quickchart\" onclick=\"quickchart('df-d8a78699-80f1-46f4-ae40-2e8cd8c3fbd8')\"\n",
              "            title=\"Suggest charts\"\n",
              "            style=\"display:none;\">\n",
              "\n",
              "<svg xmlns=\"http://www.w3.org/2000/svg\" height=\"24px\"viewBox=\"0 0 24 24\"\n",
              "     width=\"24px\">\n",
              "    <g>\n",
              "        <path d=\"M19 3H5c-1.1 0-2 .9-2 2v14c0 1.1.9 2 2 2h14c1.1 0 2-.9 2-2V5c0-1.1-.9-2-2-2zM9 17H7v-7h2v7zm4 0h-2V7h2v10zm4 0h-2v-4h2v4z\"/>\n",
              "    </g>\n",
              "</svg>\n",
              "  </button>\n",
              "\n",
              "<style>\n",
              "  .colab-df-quickchart {\n",
              "      --bg-color: #E8F0FE;\n",
              "      --fill-color: #1967D2;\n",
              "      --hover-bg-color: #E2EBFA;\n",
              "      --hover-fill-color: #174EA6;\n",
              "      --disabled-fill-color: #AAA;\n",
              "      --disabled-bg-color: #DDD;\n",
              "  }\n",
              "\n",
              "  [theme=dark] .colab-df-quickchart {\n",
              "      --bg-color: #3B4455;\n",
              "      --fill-color: #D2E3FC;\n",
              "      --hover-bg-color: #434B5C;\n",
              "      --hover-fill-color: #FFFFFF;\n",
              "      --disabled-bg-color: #3B4455;\n",
              "      --disabled-fill-color: #666;\n",
              "  }\n",
              "\n",
              "  .colab-df-quickchart {\n",
              "    background-color: var(--bg-color);\n",
              "    border: none;\n",
              "    border-radius: 50%;\n",
              "    cursor: pointer;\n",
              "    display: none;\n",
              "    fill: var(--fill-color);\n",
              "    height: 32px;\n",
              "    padding: 0;\n",
              "    width: 32px;\n",
              "  }\n",
              "\n",
              "  .colab-df-quickchart:hover {\n",
              "    background-color: var(--hover-bg-color);\n",
              "    box-shadow: 0 1px 2px rgba(60, 64, 67, 0.3), 0 1px 3px 1px rgba(60, 64, 67, 0.15);\n",
              "    fill: var(--button-hover-fill-color);\n",
              "  }\n",
              "\n",
              "  .colab-df-quickchart-complete:disabled,\n",
              "  .colab-df-quickchart-complete:disabled:hover {\n",
              "    background-color: var(--disabled-bg-color);\n",
              "    fill: var(--disabled-fill-color);\n",
              "    box-shadow: none;\n",
              "  }\n",
              "\n",
              "  .colab-df-spinner {\n",
              "    border: 2px solid var(--fill-color);\n",
              "    border-color: transparent;\n",
              "    border-bottom-color: var(--fill-color);\n",
              "    animation:\n",
              "      spin 1s steps(1) infinite;\n",
              "  }\n",
              "\n",
              "  @keyframes spin {\n",
              "    0% {\n",
              "      border-color: transparent;\n",
              "      border-bottom-color: var(--fill-color);\n",
              "      border-left-color: var(--fill-color);\n",
              "    }\n",
              "    20% {\n",
              "      border-color: transparent;\n",
              "      border-left-color: var(--fill-color);\n",
              "      border-top-color: var(--fill-color);\n",
              "    }\n",
              "    30% {\n",
              "      border-color: transparent;\n",
              "      border-left-color: var(--fill-color);\n",
              "      border-top-color: var(--fill-color);\n",
              "      border-right-color: var(--fill-color);\n",
              "    }\n",
              "    40% {\n",
              "      border-color: transparent;\n",
              "      border-right-color: var(--fill-color);\n",
              "      border-top-color: var(--fill-color);\n",
              "    }\n",
              "    60% {\n",
              "      border-color: transparent;\n",
              "      border-right-color: var(--fill-color);\n",
              "    }\n",
              "    80% {\n",
              "      border-color: transparent;\n",
              "      border-right-color: var(--fill-color);\n",
              "      border-bottom-color: var(--fill-color);\n",
              "    }\n",
              "    90% {\n",
              "      border-color: transparent;\n",
              "      border-bottom-color: var(--fill-color);\n",
              "    }\n",
              "  }\n",
              "</style>\n",
              "\n",
              "  <script>\n",
              "    async function quickchart(key) {\n",
              "      const quickchartButtonEl =\n",
              "        document.querySelector('#' + key + ' button');\n",
              "      quickchartButtonEl.disabled = true;  // To prevent multiple clicks.\n",
              "      quickchartButtonEl.classList.add('colab-df-spinner');\n",
              "      try {\n",
              "        const charts = await google.colab.kernel.invokeFunction(\n",
              "            'suggestCharts', [key], {});\n",
              "      } catch (error) {\n",
              "        console.error('Error during call to suggestCharts:', error);\n",
              "      }\n",
              "      quickchartButtonEl.classList.remove('colab-df-spinner');\n",
              "      quickchartButtonEl.classList.add('colab-df-quickchart-complete');\n",
              "    }\n",
              "    (() => {\n",
              "      let quickchartButtonEl =\n",
              "        document.querySelector('#df-d8a78699-80f1-46f4-ae40-2e8cd8c3fbd8 button');\n",
              "      quickchartButtonEl.style.display =\n",
              "        google.colab.kernel.accessAllowed ? 'block' : 'none';\n",
              "    })();\n",
              "  </script>\n",
              "</div>\n",
              "\n",
              "    </div>\n",
              "  </div>\n"
            ],
            "application/vnd.google.colaboratory.intrinsic+json": {
              "type": "dataframe",
              "summary": "{\n  \"name\": \"credit_df[credit_df['Bankruptcies'] > 1\",\n  \"rows\": 501,\n  \"fields\": [\n    {\n      \"column\": \"Loan Status\",\n      \"properties\": {\n        \"dtype\": \"number\",\n        \"std\": 0,\n        \"min\": 0,\n        \"max\": 1,\n        \"num_unique_values\": 2,\n        \"samples\": [\n          0,\n          1\n        ],\n        \"semantic_type\": \"\",\n        \"description\": \"\"\n      }\n    },\n    {\n      \"column\": \"Current Loan Amount\",\n      \"properties\": {\n        \"dtype\": \"number\",\n        \"std\": 33988801,\n        \"min\": 32208,\n        \"max\": 99999999,\n        \"num_unique_values\": 343,\n        \"samples\": [\n          284152,\n          159610\n        ],\n        \"semantic_type\": \"\",\n        \"description\": \"\"\n      }\n    },\n    {\n      \"column\": \"Term\",\n      \"properties\": {\n        \"dtype\": \"number\",\n        \"std\": 0,\n        \"min\": 0,\n        \"max\": 1,\n        \"num_unique_values\": 2,\n        \"samples\": [\n          1,\n          0\n        ],\n        \"semantic_type\": \"\",\n        \"description\": \"\"\n      }\n    },\n    {\n      \"column\": \"Credit Score\",\n      \"properties\": {\n        \"dtype\": \"number\",\n        \"std\": 24.00307282391194,\n        \"min\": 585.0,\n        \"max\": 750.0,\n        \"num_unique_values\": 94,\n        \"samples\": [\n          702.0,\n          734.0\n        ],\n        \"semantic_type\": \"\",\n        \"description\": \"\"\n      }\n    },\n    {\n      \"column\": \"Annual Income\",\n      \"properties\": {\n        \"dtype\": \"number\",\n        \"std\": 589581.6202182863,\n        \"min\": 327294.0,\n        \"max\": 4653100.0,\n        \"num_unique_values\": 320,\n        \"samples\": [\n          731101.0,\n          1105990.0\n        ],\n        \"semantic_type\": \"\",\n        \"description\": \"\"\n      }\n    },\n    {\n      \"column\": \"Years in current job\",\n      \"properties\": {\n        \"dtype\": \"number\",\n        \"std\": 3,\n        \"min\": 0,\n        \"max\": 10,\n        \"num_unique_values\": 11,\n        \"samples\": [\n          5,\n          9\n        ],\n        \"semantic_type\": \"\",\n        \"description\": \"\"\n      }\n    },\n    {\n      \"column\": \"Home Ownership\",\n      \"properties\": {\n        \"dtype\": \"number\",\n        \"std\": 0,\n        \"min\": 1,\n        \"max\": 3,\n        \"num_unique_values\": 3,\n        \"samples\": [\n          1,\n          3\n        ],\n        \"semantic_type\": \"\",\n        \"description\": \"\"\n      }\n    },\n    {\n      \"column\": \"Purpose\",\n      \"properties\": {\n        \"dtype\": \"number\",\n        \"std\": 2,\n        \"min\": 0,\n        \"max\": 14,\n        \"num_unique_values\": 12,\n        \"samples\": [\n          1,\n          8\n        ],\n        \"semantic_type\": \"\",\n        \"description\": \"\"\n      }\n    },\n    {\n      \"column\": \"Monthly Debt\",\n      \"properties\": {\n        \"dtype\": \"number\",\n        \"std\": 9642.642548304744,\n        \"min\": 476.9,\n        \"max\": 62933.7,\n        \"num_unique_values\": 390,\n        \"samples\": [\n          6114.39,\n          16850.91\n        ],\n        \"semantic_type\": \"\",\n        \"description\": \"\"\n      }\n    },\n    {\n      \"column\": \"Years of Credit History\",\n      \"properties\": {\n        \"dtype\": \"number\",\n        \"std\": 6.149197218104629,\n        \"min\": 6.0,\n        \"max\": 41.8,\n        \"num_unique_values\": 172,\n        \"samples\": [\n          23.0,\n          10.7\n        ],\n        \"semantic_type\": \"\",\n        \"description\": \"\"\n      }\n    },\n    {\n      \"column\": \"Months since last delinquent\",\n      \"properties\": {\n        \"dtype\": \"number\",\n        \"std\": 30.489532905022784,\n        \"min\": 0.0,\n        \"max\": 81.0,\n        \"num_unique_values\": 76,\n        \"samples\": [\n          48.0,\n          65.0\n        ],\n        \"semantic_type\": \"\",\n        \"description\": \"\"\n      }\n    },\n    {\n      \"column\": \"Number of Open Accounts\",\n      \"properties\": {\n        \"dtype\": \"number\",\n        \"std\": 4,\n        \"min\": 3,\n        \"max\": 32,\n        \"num_unique_values\": 26,\n        \"samples\": [\n          11,\n          20\n        ],\n        \"semantic_type\": \"\",\n        \"description\": \"\"\n      }\n    },\n    {\n      \"column\": \"Number of Credit Problems\",\n      \"properties\": {\n        \"dtype\": \"number\",\n        \"std\": 1,\n        \"min\": 2,\n        \"max\": 12,\n        \"num_unique_values\": 8,\n        \"samples\": [\n          7,\n          5\n        ],\n        \"semantic_type\": \"\",\n        \"description\": \"\"\n      }\n    },\n    {\n      \"column\": \"Current Credit Balance\",\n      \"properties\": {\n        \"dtype\": \"number\",\n        \"std\": 109932,\n        \"min\": 0,\n        \"max\": 1232739,\n        \"num_unique_values\": 385,\n        \"samples\": [\n          223212,\n          121942\n        ],\n        \"semantic_type\": \"\",\n        \"description\": \"\"\n      }\n    },\n    {\n      \"column\": \"Maximum Open Credit\",\n      \"properties\": {\n        \"dtype\": \"number\",\n        \"std\": 870838.9969853364,\n        \"min\": 0.0,\n        \"max\": 16490100.0,\n        \"num_unique_values\": 389,\n        \"samples\": [\n          315194.0,\n          311476.0\n        ],\n        \"semantic_type\": \"\",\n        \"description\": \"\"\n      }\n    },\n    {\n      \"column\": \"Bankruptcies\",\n      \"properties\": {\n        \"dtype\": \"number\",\n        \"std\": 0.685946757475984,\n        \"min\": 2.0,\n        \"max\": 7.0,\n        \"num_unique_values\": 6,\n        \"samples\": [\n          2.0,\n          3.0\n        ],\n        \"semantic_type\": \"\",\n        \"description\": \"\"\n      }\n    },\n    {\n      \"column\": \"Tax Liens\",\n      \"properties\": {\n        \"dtype\": \"number\",\n        \"std\": 0.6323040275322727,\n        \"min\": 0.0,\n        \"max\": 7.0,\n        \"num_unique_values\": 6,\n        \"samples\": [\n          0.0,\n          4.0\n        ],\n        \"semantic_type\": \"\",\n        \"description\": \"\"\n      }\n    }\n  ]\n}"
            }
          },
          "metadata": {},
          "execution_count": 37
        }
      ]
    },
    {
      "cell_type": "code",
      "source": [
        "credit_df.loc[credit_df[credit_df['Bankruptcies'] > 1.0].index, 'Bankruptcies'] = 1.0"
      ],
      "metadata": {
        "id": "UV7GFtPmbcA4"
      },
      "execution_count": null,
      "outputs": []
    },
    {
      "cell_type": "code",
      "source": [
        "credit_df['Bankruptcies'].value_counts()"
      ],
      "metadata": {
        "colab": {
          "base_uri": "https://localhost:8080/"
        },
        "id": "Fg8viKvTcKB6",
        "outputId": "0988150d-0389-4150-f1a3-86fe96a432f1"
      },
      "execution_count": null,
      "outputs": [
        {
          "output_type": "execute_result",
          "data": {
            "text/plain": [
              "Bankruptcies\n",
              "0.0    85430\n",
              "1.0    10142\n",
              "Name: count, dtype: int64"
            ]
          },
          "metadata": {},
          "execution_count": 40
        }
      ]
    },
    {
      "cell_type": "markdown",
      "source": [
        "#### Features & Target"
      ],
      "metadata": {
        "id": "fbuTji36cbI7"
      }
    },
    {
      "cell_type": "code",
      "source": [
        "X = credit_df.drop(['Bankruptcies'], axis = 1)\n",
        "Y = credit_df['Bankruptcies']"
      ],
      "metadata": {
        "id": "wyh1m9iLcQaR"
      },
      "execution_count": null,
      "outputs": []
    },
    {
      "cell_type": "markdown",
      "source": [
        "#### Split into Train & Test"
      ],
      "metadata": {
        "id": "Mr8UVvcocjcR"
      }
    },
    {
      "cell_type": "code",
      "source": [
        "from sklearn.model_selection import train_test_split\n",
        "x_train, x_test, y_train, y_test = train_test_split(X, Y, test_size = 0.2, random_state = 3)"
      ],
      "metadata": {
        "id": "lhWC8hT0ce3R"
      },
      "execution_count": null,
      "outputs": []
    },
    {
      "cell_type": "markdown",
      "source": [
        "#### Bernoulli Naive Bayes"
      ],
      "metadata": {
        "id": "i8hLBVwRc1Js"
      }
    },
    {
      "cell_type": "code",
      "source": [
        "from sklearn.naive_bayes import GaussianNB, BernoulliNB, MultinomialNB"
      ],
      "metadata": {
        "id": "8WtoZd1TcokI"
      },
      "execution_count": null,
      "outputs": []
    },
    {
      "cell_type": "code",
      "source": [
        "bern_NB = BernoulliNB()\n",
        "bern_NB.fit(x_train, y_train)"
      ],
      "metadata": {
        "colab": {
          "base_uri": "https://localhost:8080/",
          "height": 74
        },
        "id": "vWAWCxbgdACA",
        "outputId": "6d378ed6-2299-47c8-dad5-814b3ea9207e"
      },
      "execution_count": null,
      "outputs": [
        {
          "output_type": "execute_result",
          "data": {
            "text/plain": [
              "BernoulliNB()"
            ],
            "text/html": [
              "<style>#sk-container-id-1 {color: black;background-color: white;}#sk-container-id-1 pre{padding: 0;}#sk-container-id-1 div.sk-toggleable {background-color: white;}#sk-container-id-1 label.sk-toggleable__label {cursor: pointer;display: block;width: 100%;margin-bottom: 0;padding: 0.3em;box-sizing: border-box;text-align: center;}#sk-container-id-1 label.sk-toggleable__label-arrow:before {content: \"▸\";float: left;margin-right: 0.25em;color: #696969;}#sk-container-id-1 label.sk-toggleable__label-arrow:hover:before {color: black;}#sk-container-id-1 div.sk-estimator:hover label.sk-toggleable__label-arrow:before {color: black;}#sk-container-id-1 div.sk-toggleable__content {max-height: 0;max-width: 0;overflow: hidden;text-align: left;background-color: #f0f8ff;}#sk-container-id-1 div.sk-toggleable__content pre {margin: 0.2em;color: black;border-radius: 0.25em;background-color: #f0f8ff;}#sk-container-id-1 input.sk-toggleable__control:checked~div.sk-toggleable__content {max-height: 200px;max-width: 100%;overflow: auto;}#sk-container-id-1 input.sk-toggleable__control:checked~label.sk-toggleable__label-arrow:before {content: \"▾\";}#sk-container-id-1 div.sk-estimator input.sk-toggleable__control:checked~label.sk-toggleable__label {background-color: #d4ebff;}#sk-container-id-1 div.sk-label input.sk-toggleable__control:checked~label.sk-toggleable__label {background-color: #d4ebff;}#sk-container-id-1 input.sk-hidden--visually {border: 0;clip: rect(1px 1px 1px 1px);clip: rect(1px, 1px, 1px, 1px);height: 1px;margin: -1px;overflow: hidden;padding: 0;position: absolute;width: 1px;}#sk-container-id-1 div.sk-estimator {font-family: monospace;background-color: #f0f8ff;border: 1px dotted black;border-radius: 0.25em;box-sizing: border-box;margin-bottom: 0.5em;}#sk-container-id-1 div.sk-estimator:hover {background-color: #d4ebff;}#sk-container-id-1 div.sk-parallel-item::after {content: \"\";width: 100%;border-bottom: 1px solid gray;flex-grow: 1;}#sk-container-id-1 div.sk-label:hover label.sk-toggleable__label {background-color: #d4ebff;}#sk-container-id-1 div.sk-serial::before {content: \"\";position: absolute;border-left: 1px solid gray;box-sizing: border-box;top: 0;bottom: 0;left: 50%;z-index: 0;}#sk-container-id-1 div.sk-serial {display: flex;flex-direction: column;align-items: center;background-color: white;padding-right: 0.2em;padding-left: 0.2em;position: relative;}#sk-container-id-1 div.sk-item {position: relative;z-index: 1;}#sk-container-id-1 div.sk-parallel {display: flex;align-items: stretch;justify-content: center;background-color: white;position: relative;}#sk-container-id-1 div.sk-item::before, #sk-container-id-1 div.sk-parallel-item::before {content: \"\";position: absolute;border-left: 1px solid gray;box-sizing: border-box;top: 0;bottom: 0;left: 50%;z-index: -1;}#sk-container-id-1 div.sk-parallel-item {display: flex;flex-direction: column;z-index: 1;position: relative;background-color: white;}#sk-container-id-1 div.sk-parallel-item:first-child::after {align-self: flex-end;width: 50%;}#sk-container-id-1 div.sk-parallel-item:last-child::after {align-self: flex-start;width: 50%;}#sk-container-id-1 div.sk-parallel-item:only-child::after {width: 0;}#sk-container-id-1 div.sk-dashed-wrapped {border: 1px dashed gray;margin: 0 0.4em 0.5em 0.4em;box-sizing: border-box;padding-bottom: 0.4em;background-color: white;}#sk-container-id-1 div.sk-label label {font-family: monospace;font-weight: bold;display: inline-block;line-height: 1.2em;}#sk-container-id-1 div.sk-label-container {text-align: center;}#sk-container-id-1 div.sk-container {/* jupyter's `normalize.less` sets `[hidden] { display: none; }` but bootstrap.min.css set `[hidden] { display: none !important; }` so we also need the `!important` here to be able to override the default hidden behavior on the sphinx rendered scikit-learn.org. See: https://github.com/scikit-learn/scikit-learn/issues/21755 */display: inline-block !important;position: relative;}#sk-container-id-1 div.sk-text-repr-fallback {display: none;}</style><div id=\"sk-container-id-1\" class=\"sk-top-container\"><div class=\"sk-text-repr-fallback\"><pre>BernoulliNB()</pre><b>In a Jupyter environment, please rerun this cell to show the HTML representation or trust the notebook. <br />On GitHub, the HTML representation is unable to render, please try loading this page with nbviewer.org.</b></div><div class=\"sk-container\" hidden><div class=\"sk-item\"><div class=\"sk-estimator sk-toggleable\"><input class=\"sk-toggleable__control sk-hidden--visually\" id=\"sk-estimator-id-1\" type=\"checkbox\" checked><label for=\"sk-estimator-id-1\" class=\"sk-toggleable__label sk-toggleable__label-arrow\">BernoulliNB</label><div class=\"sk-toggleable__content\"><pre>BernoulliNB()</pre></div></div></div></div></div>"
            ]
          },
          "metadata": {},
          "execution_count": 44
        }
      ]
    },
    {
      "cell_type": "code",
      "source": [
        "bern_NB.score(x_test, y_test)"
      ],
      "metadata": {
        "colab": {
          "base_uri": "https://localhost:8080/"
        },
        "id": "V8KiJUyodIq8",
        "outputId": "a98d4af9-3168-46e5-e76f-d676b0f7d24b"
      },
      "execution_count": null,
      "outputs": [
        {
          "output_type": "execute_result",
          "data": {
            "text/plain": [
              "0.9707036358880461"
            ]
          },
          "metadata": {},
          "execution_count": 45
        }
      ]
    },
    {
      "cell_type": "markdown",
      "source": [
        "#### Classification Metrics"
      ],
      "metadata": {
        "id": "AoHWhclhdQYb"
      }
    },
    {
      "cell_type": "code",
      "source": [
        "yhat = bern_NB.predict(x_test)"
      ],
      "metadata": {
        "id": "EdhAF-MWdM5y"
      },
      "execution_count": null,
      "outputs": []
    },
    {
      "cell_type": "code",
      "source": [
        "from sklearn.metrics import confusion_matrix, classification_report\n",
        "confusion_matrix(y_test, yhat)"
      ],
      "metadata": {
        "colab": {
          "base_uri": "https://localhost:8080/"
        },
        "id": "kLSHgZ66dTgh",
        "outputId": "6a1bfbec-2cb2-4ee9-ad16-e9067d1bce99"
      },
      "execution_count": null,
      "outputs": [
        {
          "output_type": "execute_result",
          "data": {
            "text/plain": [
              "array([[16518,   557],\n",
              "       [    3,  2037]])"
            ]
          },
          "metadata": {},
          "execution_count": 48
        }
      ]
    },
    {
      "cell_type": "code",
      "source": [
        "plt.figure(figsize = (4,3))\n",
        "sns.heatmap(confusion_matrix(y_test, yhat), annot = True, fmt = '0.0f')"
      ],
      "metadata": {
        "colab": {
          "base_uri": "https://localhost:8080/",
          "height": 308
        },
        "id": "nr7hezhwdYzk",
        "outputId": "96c8b2d5-32b4-4301-d5f0-9e82ea8f44aa"
      },
      "execution_count": null,
      "outputs": [
        {
          "output_type": "execute_result",
          "data": {
            "text/plain": [
              "<Axes: >"
            ]
          },
          "metadata": {},
          "execution_count": 49
        },
        {
          "output_type": "display_data",
          "data": {
            "text/plain": [
              "<Figure size 400x300 with 2 Axes>"
            ],
            "image/png": "[encoded data removed]"
          },
          "metadata": {}
        }
      ]
    },
    {
      "cell_type": "code",
      "source": [
        "print(classification_report(y_test, yhat))"
      ],
      "metadata": {
        "colab": {
          "base_uri": "https://localhost:8080/"
        },
        "id": "AAOSeIQJdbcE",
        "outputId": "0192341b-1425-418a-9a91-037529274d28"
      },
      "execution_count": null,
      "outputs": [
        {
          "output_type": "stream",
          "name": "stdout",
          "text": [
            "              precision    recall  f1-score   support\n",
            "\n",
            "         0.0       1.00      0.97      0.98     17075\n",
            "         1.0       0.79      1.00      0.88      2040\n",
            "\n",
            "    accuracy                           0.97     19115\n",
            "   macro avg       0.89      0.98      0.93     19115\n",
            "weighted avg       0.98      0.97      0.97     19115\n",
            "\n"
          ]
        }
      ]
    },
    {
      "cell_type": "code",
      "source": [],
      "metadata": {
        "id": "tlf28gDKdeyf"
      },
      "execution_count": null,
      "outputs": []
    }
  ]
}